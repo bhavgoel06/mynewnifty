{
 "cells": [
  {
   "cell_type": "code",
   "execution_count": null,
   "id": "7b146019",
   "metadata": {},
   "outputs": [],
   "source": [
    "import pandas as pd\n",
    "from breeze_connect import BreezeConnect\n",
    "from datetime import datetime, date, time\n",
    "import warnings\n",
    "warnings.filterwarnings('ignore')"
   ]
  },
  {
   "cell_type": "code",
   "execution_count": null,
   "id": "69835c0d",
   "metadata": {},
   "outputs": [],
   "source": [
    "api_key = \"87N34266990R6384pOG40#Y4@72BU42y\"\n",
    "apisecret = \"l~1Vj801705L4W24M253K563#7%03*F7\""
   ]
  },
  {
   "cell_type": "code",
   "execution_count": null,
   "id": "6d123d6c",
   "metadata": {},
   "outputs": [],
   "source": [
    "import urllib\n",
    "print(\"https://api.icicidirect.com/apiuser/login?api_key=\"+urllib.parse.quote_plus(api_key))\n"
   ]
  },
  {
   "cell_type": "code",
   "execution_count": null,
   "id": "fda64a3c",
   "metadata": {},
   "outputs": [],
   "source": [
    "breeze = BreezeConnect(api_key=api_key)\n",
    "\n",
    "# Put session_token for the day you get after login to API through browser\n",
    "breeze.generate_session(api_secret=apisecret,session_token=\"1592764\")"
   ]
  },
  {
   "cell_type": "code",
   "execution_count": null,
   "id": "fa81bfa7",
   "metadata": {},
   "outputs": [],
   "source": [
    "breeze.ws_connect()"
   ]
  },
  {
   "cell_type": "code",
   "execution_count": null,
   "id": "959e3d1c",
   "metadata": {},
   "outputs": [],
   "source": [
    "def get_historical_data(adate):\n",
    "    data = breeze.get_historical_data(interval=\"1minute\", from_date= adate + \"T09:15:00.000Z\",\n",
    "                            to_date= adate + \"T15:30:00.000Z\", stock_code=\"NIFTY\", exchange_code=\"NSE\", product_type=\"cash\")\n",
    "    put_data = pd.DataFrame(data[\"Success\"])\n",
    "    df = put_data[['datetime', 'open', 'high', 'low', 'close']]\n",
    "    df['datetime']= pd.to_datetime(df['datetime'])\n",
    "    df = df.loc[df['datetime'].dt.time > time(9,14,0)]\n",
    "    df = df.loc[df['datetime'].dt.time < time(15,31,0)]\n",
    "    if len(df) == 0:\n",
    "        print('Data not found2:', adate)\n",
    "        return\n",
    "    return df\n"
   ]
  },
  {
   "cell_type": "code",
   "execution_count": null,
   "id": "8a2dc85d",
   "metadata": {},
   "outputs": [],
   "source": [
    "get_historical_data('2022-01-03').head()"
   ]
  },
  {
   "cell_type": "code",
   "execution_count": null,
   "id": "0d6e745f",
   "metadata": {},
   "outputs": [],
   "source": []
  }
 ],
 "metadata": {
  "kernelspec": {
   "display_name": "Python 3 (ipykernel)",
   "language": "python",
   "name": "python3"
  },
  "language_info": {
   "codemirror_mode": {
    "name": "ipython",
    "version": 3
   },
   "file_extension": ".py",
   "mimetype": "text/x-python",
   "name": "python",
   "nbconvert_exporter": "python",
   "pygments_lexer": "ipython3",
   "version": "3.9.12"
  }
 },
 "nbformat": 4,
 "nbformat_minor": 5
}
