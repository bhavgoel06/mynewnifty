{
 "cells": [
  {
   "cell_type": "code",
   "execution_count": 141,
   "id": "950dd93b",
   "metadata": {},
   "outputs": [],
   "source": [
    "import pandas as pd\n",
    "import numpy as np\n",
    "import talib\n",
    "import plotly.graph_objects as go\n",
    "import datetime\n",
    "import warnings\n",
    "warnings.filterwarnings('ignore')"
   ]
  },
  {
   "cell_type": "code",
   "execution_count": 142,
   "id": "5c5bd5a2",
   "metadata": {},
   "outputs": [
    {
     "data": {
      "text/html": [
       "<div>\n",
       "<style scoped>\n",
       "    .dataframe tbody tr th:only-of-type {\n",
       "        vertical-align: middle;\n",
       "    }\n",
       "\n",
       "    .dataframe tbody tr th {\n",
       "        vertical-align: top;\n",
       "    }\n",
       "\n",
       "    .dataframe thead th {\n",
       "        text-align: right;\n",
       "    }\n",
       "</style>\n",
       "<table border=\"1\" class=\"dataframe\">\n",
       "  <thead>\n",
       "    <tr style=\"text-align: right;\">\n",
       "      <th></th>\n",
       "      <th>Date</th>\n",
       "      <th>Open</th>\n",
       "      <th>High</th>\n",
       "      <th>Low</th>\n",
       "      <th>Close</th>\n",
       "    </tr>\n",
       "  </thead>\n",
       "  <tbody>\n",
       "    <tr>\n",
       "      <th>28</th>\n",
       "      <td>2023-01-06</td>\n",
       "      <td>1470.00</td>\n",
       "      <td>1475.00</td>\n",
       "      <td>1446.50</td>\n",
       "      <td>1448.50</td>\n",
       "    </tr>\n",
       "    <tr>\n",
       "      <th>29</th>\n",
       "      <td>2023-01-09</td>\n",
       "      <td>1448.20</td>\n",
       "      <td>1489.35</td>\n",
       "      <td>1448.20</td>\n",
       "      <td>1484.45</td>\n",
       "    </tr>\n",
       "    <tr>\n",
       "      <th>30</th>\n",
       "      <td>2023-01-10</td>\n",
       "      <td>1482.00</td>\n",
       "      <td>1483.90</td>\n",
       "      <td>1454.05</td>\n",
       "      <td>1469.75</td>\n",
       "    </tr>\n",
       "    <tr>\n",
       "      <th>31</th>\n",
       "      <td>2023-01-11</td>\n",
       "      <td>1470.00</td>\n",
       "      <td>1494.00</td>\n",
       "      <td>1464.00</td>\n",
       "      <td>1471.25</td>\n",
       "    </tr>\n",
       "    <tr>\n",
       "      <th>32</th>\n",
       "      <td>2023-01-12</td>\n",
       "      <td>1481.95</td>\n",
       "      <td>1485.00</td>\n",
       "      <td>1455.05</td>\n",
       "      <td>1479.00</td>\n",
       "    </tr>\n",
       "  </tbody>\n",
       "</table>\n",
       "</div>"
      ],
      "text/plain": [
       "         Date     Open     High      Low    Close\n",
       "28 2023-01-06  1470.00  1475.00  1446.50  1448.50\n",
       "29 2023-01-09  1448.20  1489.35  1448.20  1484.45\n",
       "30 2023-01-10  1482.00  1483.90  1454.05  1469.75\n",
       "31 2023-01-11  1470.00  1494.00  1464.00  1471.25\n",
       "32 2023-01-12  1481.95  1485.00  1455.05  1479.00"
      ]
     },
     "execution_count": 142,
     "metadata": {},
     "output_type": "execute_result"
    }
   ],
   "source": [
    "df = pd.read_csv(\"infy2023.csv\")\n",
    "df['Date'] = df['Date'].astype(str).str[4:21]\n",
    "df['Date'] = pd.to_datetime(df.Date)\n",
    "df[['Date','Open', 'High', 'Low', 'Close']].tail(5)"
   ]
  },
  {
   "cell_type": "code",
   "execution_count": 143,
   "id": "040bfaee",
   "metadata": {},
   "outputs": [
    {
     "name": "stdout",
     "output_type": "stream",
     "text": [
      "Pivot_Point=1476.42 \n",
      "Resistance_1=1488.84 \n",
      "Support_1=1458.84 \n",
      "Resistance_2=1506.42 \n",
      "Support_2=1446.42 \n",
      "Resistance_3=1536.42 \n",
      "Support_3=1416.42\n"
     ]
    }
   ],
   "source": [
    "df = df.iloc[:-1,:]\n",
    "df2 = df[['Date', 'Open', 'High', 'Low', 'Close']]\n",
    "df2.tail()\n",
    "high = round(df2['High'].iloc[-1],2)\n",
    "low = round(df2['Low'].iloc[-1], 2)\n",
    "close =  round(df2['Close'].iloc[-1], 2)\n",
    "\n",
    "Pivot_Point = round((high + low + close) / 3,2)\n",
    "\n",
    "Resistance_1 = round(2 * Pivot_Point - low, 2)\n",
    "Support_1 = round(2 * Pivot_Point - high, 2)\n",
    "\n",
    "Resistance_2 = round(Pivot_Point + high - low, 2)\n",
    "Support_2 = round(Pivot_Point - (high - low), 2)\n",
    "\n",
    "Resistance_3 = round(Pivot_Point + 2 * (high - low), 2)\n",
    "Support_3 = round(Pivot_Point - 2 * (high - low), 2)\n",
    "\n",
    "print(f\"{Pivot_Point=} \\n{Resistance_1=} \\n{Support_1=} \\n{Resistance_2=} \\n{Support_2=} \\n{Resistance_3=} \\n{Support_3=}\")\n",
    "\n"
   ]
  },
  {
   "cell_type": "code",
   "execution_count": 144,
   "id": "f64cef43",
   "metadata": {},
   "outputs": [
    {
     "data": {
      "text/html": [
       "<div>\n",
       "<style scoped>\n",
       "    .dataframe tbody tr th:only-of-type {\n",
       "        vertical-align: middle;\n",
       "    }\n",
       "\n",
       "    .dataframe tbody tr th {\n",
       "        vertical-align: top;\n",
       "    }\n",
       "\n",
       "    .dataframe thead th {\n",
       "        text-align: right;\n",
       "    }\n",
       "</style>\n",
       "<table border=\"1\" class=\"dataframe\">\n",
       "  <thead>\n",
       "    <tr style=\"text-align: right;\">\n",
       "      <th></th>\n",
       "      <th>2023-01-12 14:25:00</th>\n",
       "    </tr>\n",
       "  </thead>\n",
       "  <tbody>\n",
       "    <tr>\n",
       "      <th>Pivot Point</th>\n",
       "      <td>1476.38</td>\n",
       "    </tr>\n",
       "    <tr>\n",
       "      <th>Resistance 1</th>\n",
       "      <td>1488.67</td>\n",
       "    </tr>\n",
       "    <tr>\n",
       "      <th>Support 1</th>\n",
       "      <td>1458.77</td>\n",
       "    </tr>\n",
       "    <tr>\n",
       "      <th>Resistance 2</th>\n",
       "      <td>1506.28</td>\n",
       "    </tr>\n",
       "    <tr>\n",
       "      <th>Support 2</th>\n",
       "      <td>1446.48</td>\n",
       "    </tr>\n",
       "    <tr>\n",
       "      <th>Resistance 3</th>\n",
       "      <td>1536.18</td>\n",
       "    </tr>\n",
       "    <tr>\n",
       "      <th>Support 3</th>\n",
       "      <td>1416.58</td>\n",
       "    </tr>\n",
       "  </tbody>\n",
       "</table>\n",
       "</div>"
      ],
      "text/plain": [
       "              2023-01-12 14:25:00\n",
       "Pivot Point               1476.38\n",
       "Resistance 1              1488.67\n",
       "Support 1                 1458.77\n",
       "Resistance 2              1506.28\n",
       "Support 2                 1446.48\n",
       "Resistance 3              1536.18\n",
       "Support 3                 1416.58"
      ]
     },
     "execution_count": 144,
     "metadata": {},
     "output_type": "execute_result"
    }
   ],
   "source": [
    "df3 = pd.read_csv(\"infy5min.csv\")\n",
    "df3['Date'] = df3['Date'].astype(str).str[4:21]\n",
    "df3['Date'] = pd.to_datetime(df3.Date)\n",
    "df3.set_index('Date', inplace=True)\n",
    "df3.columns = ['Open', 'High', 'Low', 'Close', 'Pivot Point', 'Resistance 1', 'Support 1', 'Resistance 2', 'Support 2', 'Resistance 3','Support 3']\n",
    "df4 = pd.DataFrame(df3[['Pivot Point', 'Resistance 1', 'Support 1','Resistance 2', 'Support 2', 'Resistance 3','Support 3']].iloc[-1].transpose())\n",
    "df4"
   ]
  },
  {
   "cell_type": "code",
   "execution_count": 145,
   "id": "0d4298ee",
   "metadata": {},
   "outputs": [
    {
     "data": {
      "text/plain": [
       "<AxesSubplot:xlabel='Date'>"
      ]
     },
     "execution_count": 145,
     "metadata": {},
     "output_type": "execute_result"
    },
    {
     "data": {
      "image/png": "[encoded data removed]",
      "text/plain": [
       "<Figure size 1296x648 with 1 Axes>"
      ]
     },
     "metadata": {
      "needs_background": "light"
     },
     "output_type": "display_data"
    }
   ],
   "source": [
    "df3[['Close', 'Pivot Point', 'Support 1', 'Resistance 1', 'Support 2', 'Resistance 2']].plot(figsize=(18,9))"
   ]
  },
  {
   "cell_type": "code",
   "execution_count": null,
   "id": "4d79b683",
   "metadata": {},
   "outputs": [],
   "source": []
  }
 ],
 "metadata": {
  "kernelspec": {
   "display_name": "Python 3 (ipykernel)",
   "language": "python",
   "name": "python3"
  },
  "language_info": {
   "codemirror_mode": {
    "name": "ipython",
    "version": 3
   },
   "file_extension": ".py",
   "mimetype": "text/x-python",
   "name": "python",
   "nbconvert_exporter": "python",
   "pygments_lexer": "ipython3",
   "version": "3.9.12"
  }
 },
 "nbformat": 4,
 "nbformat_minor": 5
}
