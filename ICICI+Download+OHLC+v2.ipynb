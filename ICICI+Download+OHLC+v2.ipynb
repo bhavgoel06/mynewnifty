{
 "cells": [
  {
   "cell_type": "markdown",
   "id": "40910771",
   "metadata": {},
   "source": [
    "# Download Historical OHLC Data"
   ]
  },
  {
   "cell_type": "code",
   "execution_count": 1,
   "id": "1361603d",
   "metadata": {},
   "outputs": [],
   "source": [
    "import pandas as pd\n",
    "from breeze_connect import BreezeConnect\n",
    "import mysql.connector as sqlConnector\n",
    "import datetime\n",
    "from datetime import date\n",
    "import time\n",
    "from selenium import webdriver\n",
    "from pyotp import TOTP\n",
    "import urllib\n",
    "import warnings\n",
    "warnings.filterwarnings('ignore')"
   ]
  },
  {
   "cell_type": "markdown",
   "id": "84835ac4",
   "metadata": {},
   "source": [
    "Login"
   ]
  },
  {
   "cell_type": "code",
   "execution_count": 2,
   "id": "9fca8797",
   "metadata": {},
   "outputs": [],
   "source": [
    "file = open(\"security.txt\", \"r\")\n",
    "keys = file.read().split()  # Get a List of keys\n",
    "api_key = keys[0]\n",
    "key_secret = keys[1]\n",
    "userID = keys[2]\n",
    "pwd = keys[3]\n",
    "totp_key = keys[4]\n",
    "breeze = BreezeConnect(api_key=api_key)"
   ]
  },
  {
   "cell_type": "code",
   "execution_count": 3,
   "id": "0d99f468",
   "metadata": {},
   "outputs": [],
   "source": [
    "browser = webdriver.Chrome()\n",
    "browser.get(\"https://api.icicidirect.com/apiuser/login?api_key=\"+urllib.parse.quote_plus(api_key))\n",
    "browser.implicitly_wait(5)\n",
    "username = browser.find_element(\"xpath\", '/html/body/form/div[2]/div/div/div[1]/div[2]/div/div[1]/input')\n",
    "password = browser.find_element(\"xpath\", '/html/body/form/div[2]/div/div/div[1]/div[2]/div/div[3]/div/input') \n",
    "username.send_keys(userID)\n",
    "password.send_keys(pwd)\n",
    "#Checkbox\n",
    "browser.find_element(\"xpath\", '/html/body/form/div[2]/div/div/div[1]/div[2]/div/div[4]/div/input').click()\n",
    "# Click Login Button\n",
    "browser.find_element(\"xpath\", '/html/body/form/div[2]/div/div/div[1]/div[2]/div/div[5]/input[1]').click()\n",
    "time.sleep(2)\n",
    "pin = browser.find_element(\"xpath\", '/html/body/form/div[2]/div/div/div[2]/div/div[2]/div[2]/div[3]/div/div[1]/input')\n",
    "totp = TOTP(totp_key)\n",
    "token = totp.now()\n",
    "pin.send_keys(token)\n",
    "browser.find_element(\"xpath\", '/html/body/form/div[2]/div/div/div[2]/div/div[2]/div[2]/div[4]/input[1]').click()\n",
    "time.sleep(3)\n",
    "temp_token=browser.current_url.split('apisession=')[1][:8]\n",
    "print('temp_token', temp_token)"
   ]
  },
  {
   "cell_type": "code",
   "execution_count": 4,
   "id": "f9423ca5",
   "metadata": {},
   "outputs": [],
   "source": [
    "breeze.generate_session(api_secret=key_secret,session_token=temp_token)"
   ]
  },
  {
   "cell_type": "code",
   "execution_count": 6,
   "id": "58f1cb85-1c4f-41fb-822e-c3f3d7d46c8c",
   "metadata": {},
   "outputs": [],
   "source": [
    "from sqlalchemy import create_engine\n",
    "username = '******'\n",
    "password = '*****'\n",
    "database_name = \"algo\"\n",
    "hostname = \"127.0.0.1\"\n",
    "engine = create_engine(f\"mysql+pymysql://{username}:{password}@{hostname}:3306/{database_name}\")"
   ]
  },
  {
   "cell_type": "markdown",
   "id": "f9e1f2c8",
   "metadata": {},
   "source": [
    "intervals: \"1second\",\"1minute\", \"5minute\", \"30minute\" or as \"1day\".<br>\n",
    "\n",
    "Maximum candle intervals in one single request is 1000"
   ]
  },
  {
   "cell_type": "markdown",
   "id": "b480a875",
   "metadata": {},
   "source": [
    "### Download data refined function"
   ]
  },
  {
   "cell_type": "code",
   "execution_count": 7,
   "id": "a8a59dba",
   "metadata": {
    "scrolled": true
   },
   "outputs": [],
   "source": [
    "adate = '2023-03-17'\n",
    "symbol = 'TCS'\n",
    "data = breeze.get_historical_data(interval=\"5minute\", from_date= adate + \"T09:15:00.000Z\",\n",
    "                            to_date= adate + \"T15:30:00.000Z\", stock_code=symbol, exchange_code=\"NSE\", product_type=\"cash\")\n",
    "put_data = pd.DataFrame(data[\"Success\"])\n",
    "if put_data.empty:\n",
    "    print('Data not found:', adate)\n",
    "    df = pd.DataFrame()\n",
    "else:\n",
    "    df = put_data[['datetime', 'open', 'high', 'low', 'close']]\n"
   ]
  },
  {
   "cell_type": "code",
   "execution_count": 8,
   "id": "e9ad4d33",
   "metadata": {
    "scrolled": true
   },
   "outputs": [
    {
     "data": {
      "text/html": [
       "<div>\n",
       "<style scoped>\n",
       "    .dataframe tbody tr th:only-of-type {\n",
       "        vertical-align: middle;\n",
       "    }\n",
       "\n",
       "    .dataframe tbody tr th {\n",
       "        vertical-align: top;\n",
       "    }\n",
       "\n",
       "    .dataframe thead th {\n",
       "        text-align: right;\n",
       "    }\n",
       "</style>\n",
       "<table border=\"1\" class=\"dataframe\">\n",
       "  <thead>\n",
       "    <tr style=\"text-align: right;\">\n",
       "      <th></th>\n",
       "      <th>datetime</th>\n",
       "      <th>open</th>\n",
       "      <th>high</th>\n",
       "      <th>low</th>\n",
       "      <th>close</th>\n",
       "    </tr>\n",
       "  </thead>\n",
       "  <tbody>\n",
       "    <tr>\n",
       "      <th>0</th>\n",
       "      <td>2023-03-17 09:10:00</td>\n",
       "      <td>3150.5</td>\n",
       "      <td>3150.5</td>\n",
       "      <td>3150.5</td>\n",
       "      <td>3150.5</td>\n",
       "    </tr>\n",
       "    <tr>\n",
       "      <th>1</th>\n",
       "      <td>2023-03-17 09:15:00</td>\n",
       "      <td>3159.85</td>\n",
       "      <td>3162.5</td>\n",
       "      <td>3151.35</td>\n",
       "      <td>3158.35</td>\n",
       "    </tr>\n",
       "    <tr>\n",
       "      <th>2</th>\n",
       "      <td>2023-03-17 09:20:00</td>\n",
       "      <td>3159.05</td>\n",
       "      <td>3186.7</td>\n",
       "      <td>3158.95</td>\n",
       "      <td>3165.85</td>\n",
       "    </tr>\n",
       "    <tr>\n",
       "      <th>3</th>\n",
       "      <td>2023-03-17 09:25:00</td>\n",
       "      <td>3165.95</td>\n",
       "      <td>3194</td>\n",
       "      <td>3165.35</td>\n",
       "      <td>3182</td>\n",
       "    </tr>\n",
       "    <tr>\n",
       "      <th>4</th>\n",
       "      <td>2023-03-17 09:30:00</td>\n",
       "      <td>3182.05</td>\n",
       "      <td>3189</td>\n",
       "      <td>3172.75</td>\n",
       "      <td>3179.95</td>\n",
       "    </tr>\n",
       "  </tbody>\n",
       "</table>\n",
       "</div>"
      ],
      "text/plain": [
       "              datetime     open    high      low    close\n",
       "0  2023-03-17 09:10:00   3150.5  3150.5   3150.5   3150.5\n",
       "1  2023-03-17 09:15:00  3159.85  3162.5  3151.35  3158.35\n",
       "2  2023-03-17 09:20:00  3159.05  3186.7  3158.95  3165.85\n",
       "3  2023-03-17 09:25:00  3165.95    3194  3165.35     3182\n",
       "4  2023-03-17 09:30:00  3182.05    3189  3172.75  3179.95"
      ]
     },
     "execution_count": 8,
     "metadata": {},
     "output_type": "execute_result"
    }
   ],
   "source": [
    "df.head()"
   ]
  },
  {
   "cell_type": "code",
   "execution_count": 9,
   "id": "fa443ce1-203b-4fad-a397-6ebb7d8a5b4e",
   "metadata": {
    "scrolled": true
   },
   "outputs": [
    {
     "name": "stdout",
     "output_type": "stream",
     "text": [
      "Saved to Database\n"
     ]
    }
   ],
   "source": [
    "df.to_sql('daily_ohlc', con=engine, if_exists='append', index=False, chunksize=1000)\n",
    "print('Saved to Database')"
   ]
  },
  {
   "cell_type": "code",
   "execution_count": 10,
   "id": "b1847da7",
   "metadata": {},
   "outputs": [],
   "source": [
    "def download_NFO(symbol, sdate, edate, expiry_date):\n",
    "    #data = breeze.get_historical_data_v2(interval=\"1minute\",\n",
    "    data = breeze.get_historical_data_v2(interval=\"1minute\",\n",
    "                                from_date= sdate,\n",
    "                                to_date= edate,\n",
    "                                stock_code= symbol,\n",
    "                                exchange_code=\"NFO\",\n",
    "                                product_type=\"futures\",\n",
    "                                expiry_date=expiry_date)\n",
    "    #print(data)\n",
    "    put_data = pd.DataFrame(data[\"Success\"])\n",
    "    if put_data.empty:\n",
    "        print('Data not found:', adate)\n",
    "        df = pd.DataFrame()\n",
    "    else:\n",
    "        df = put_data[['datetime', 'open', 'high', 'low', 'close']]\n",
    "        df.columns= ['DateTime', 'Open', 'High', 'Low', 'Close']\n",
    "        df['DateTime'] = pd.to_datetime(df['DateTime'])\n",
    "        df.set_index('DateTime', inplace=True)\n",
    "        df['volume'] = 0\n",
    "        return df"
   ]
  },
  {
   "cell_type": "code",
   "execution_count": 11,
   "id": "d85a830b",
   "metadata": {},
   "outputs": [
    {
     "data": {
      "text/plain": [
       "('2023-03-17T09:15:00.000Z',\n",
       " '2023-03-17T11:00:00.000Z',\n",
       " '2023-03-29T05:30:00.000Z')"
      ]
     },
     "execution_count": 11,
     "metadata": {},
     "output_type": "execute_result"
    }
   ],
   "source": [
    "edate = datetime.datetime(2023, 3, 17, 11, 0, 0)\n",
    "sdate = datetime.datetime(2023, 3, 17, 9, 15, 0)\n",
    "edate_iso = edate.isoformat()[:19] + '.000Z'\n",
    "sdate_iso = sdate.isoformat()[:19] + '.000Z'\n",
    "expiry_date = datetime.date(2023, 3, 29)\n",
    "xdate_iso = expiry_date.isoformat()[:10] + 'T05:30:00.000Z'\n",
    "sdate_iso, edate_iso, xdate_iso"
   ]
  },
  {
   "cell_type": "code",
   "execution_count": 12,
   "id": "443c6822",
   "metadata": {},
   "outputs": [
    {
     "data": {
      "text/html": [
       "<div>\n",
       "<style scoped>\n",
       "    .dataframe tbody tr th:only-of-type {\n",
       "        vertical-align: middle;\n",
       "    }\n",
       "\n",
       "    .dataframe tbody tr th {\n",
       "        vertical-align: top;\n",
       "    }\n",
       "\n",
       "    .dataframe thead th {\n",
       "        text-align: right;\n",
       "    }\n",
       "</style>\n",
       "<table border=\"1\" class=\"dataframe\">\n",
       "  <thead>\n",
       "    <tr style=\"text-align: right;\">\n",
       "      <th></th>\n",
       "      <th>Open</th>\n",
       "      <th>High</th>\n",
       "      <th>Low</th>\n",
       "      <th>Close</th>\n",
       "      <th>volume</th>\n",
       "    </tr>\n",
       "    <tr>\n",
       "      <th>DateTime</th>\n",
       "      <th></th>\n",
       "      <th></th>\n",
       "      <th></th>\n",
       "      <th></th>\n",
       "      <th></th>\n",
       "    </tr>\n",
       "  </thead>\n",
       "  <tbody>\n",
       "    <tr>\n",
       "      <th>2023-03-17 09:15:00</th>\n",
       "      <td>3167.65</td>\n",
       "      <td>3190.20</td>\n",
       "      <td>3155.00</td>\n",
       "      <td>3190.20</td>\n",
       "      <td>0</td>\n",
       "    </tr>\n",
       "    <tr>\n",
       "      <th>2023-03-17 09:16:00</th>\n",
       "      <td>3192.25</td>\n",
       "      <td>3199.50</td>\n",
       "      <td>3185.15</td>\n",
       "      <td>3192.85</td>\n",
       "      <td>0</td>\n",
       "    </tr>\n",
       "    <tr>\n",
       "      <th>2023-03-17 09:17:00</th>\n",
       "      <td>3191.90</td>\n",
       "      <td>3201.80</td>\n",
       "      <td>3191.05</td>\n",
       "      <td>3192.05</td>\n",
       "      <td>0</td>\n",
       "    </tr>\n",
       "    <tr>\n",
       "      <th>2023-03-17 09:18:00</th>\n",
       "      <td>3193.10</td>\n",
       "      <td>3193.45</td>\n",
       "      <td>3181.00</td>\n",
       "      <td>3181.75</td>\n",
       "      <td>0</td>\n",
       "    </tr>\n",
       "    <tr>\n",
       "      <th>2023-03-17 09:19:00</th>\n",
       "      <td>3181.00</td>\n",
       "      <td>3188.50</td>\n",
       "      <td>3181.00</td>\n",
       "      <td>3187.40</td>\n",
       "      <td>0</td>\n",
       "    </tr>\n",
       "  </tbody>\n",
       "</table>\n",
       "</div>"
      ],
      "text/plain": [
       "                        Open     High      Low    Close  volume\n",
       "DateTime                                                       \n",
       "2023-03-17 09:15:00  3167.65  3190.20  3155.00  3190.20       0\n",
       "2023-03-17 09:16:00  3192.25  3199.50  3185.15  3192.85       0\n",
       "2023-03-17 09:17:00  3191.90  3201.80  3191.05  3192.05       0\n",
       "2023-03-17 09:18:00  3193.10  3193.45  3181.00  3181.75       0\n",
       "2023-03-17 09:19:00  3181.00  3188.50  3181.00  3187.40       0"
      ]
     },
     "execution_count": 12,
     "metadata": {},
     "output_type": "execute_result"
    }
   ],
   "source": [
    "df_fut = download_NFO(\"TCS\", sdate_iso, edate_iso, xdate_iso)\n",
    "df_fut.head()"
   ]
  },
  {
   "cell_type": "code",
   "execution_count": 13,
   "id": "d11aeaad",
   "metadata": {},
   "outputs": [
    {
     "data": {
      "text/html": [
       "<div>\n",
       "<style scoped>\n",
       "    .dataframe tbody tr th:only-of-type {\n",
       "        vertical-align: middle;\n",
       "    }\n",
       "\n",
       "    .dataframe tbody tr th {\n",
       "        vertical-align: top;\n",
       "    }\n",
       "\n",
       "    .dataframe thead th {\n",
       "        text-align: right;\n",
       "    }\n",
       "</style>\n",
       "<table border=\"1\" class=\"dataframe\">\n",
       "  <thead>\n",
       "    <tr style=\"text-align: right;\">\n",
       "      <th></th>\n",
       "      <th>Open</th>\n",
       "      <th>High</th>\n",
       "      <th>Low</th>\n",
       "      <th>Close</th>\n",
       "      <th>volume</th>\n",
       "    </tr>\n",
       "    <tr>\n",
       "      <th>DateTime</th>\n",
       "      <th></th>\n",
       "      <th></th>\n",
       "      <th></th>\n",
       "      <th></th>\n",
       "      <th></th>\n",
       "    </tr>\n",
       "  </thead>\n",
       "  <tbody>\n",
       "    <tr>\n",
       "      <th>2023-03-17 10:56:00</th>\n",
       "      <td>3187.10</td>\n",
       "      <td>3188.20</td>\n",
       "      <td>3187.10</td>\n",
       "      <td>3187.75</td>\n",
       "      <td>0</td>\n",
       "    </tr>\n",
       "    <tr>\n",
       "      <th>2023-03-17 10:57:00</th>\n",
       "      <td>3188.85</td>\n",
       "      <td>3190.00</td>\n",
       "      <td>3188.30</td>\n",
       "      <td>3189.85</td>\n",
       "      <td>0</td>\n",
       "    </tr>\n",
       "    <tr>\n",
       "      <th>2023-03-17 10:58:00</th>\n",
       "      <td>3189.85</td>\n",
       "      <td>3193.15</td>\n",
       "      <td>3189.45</td>\n",
       "      <td>3192.10</td>\n",
       "      <td>0</td>\n",
       "    </tr>\n",
       "    <tr>\n",
       "      <th>2023-03-17 10:59:00</th>\n",
       "      <td>3192.10</td>\n",
       "      <td>3192.90</td>\n",
       "      <td>3191.75</td>\n",
       "      <td>3192.05</td>\n",
       "      <td>0</td>\n",
       "    </tr>\n",
       "    <tr>\n",
       "      <th>2023-03-17 11:00:00</th>\n",
       "      <td>3192.05</td>\n",
       "      <td>3193.25</td>\n",
       "      <td>3190.65</td>\n",
       "      <td>3191.55</td>\n",
       "      <td>0</td>\n",
       "    </tr>\n",
       "  </tbody>\n",
       "</table>\n",
       "</div>"
      ],
      "text/plain": [
       "                        Open     High      Low    Close  volume\n",
       "DateTime                                                       \n",
       "2023-03-17 10:56:00  3187.10  3188.20  3187.10  3187.75       0\n",
       "2023-03-17 10:57:00  3188.85  3190.00  3188.30  3189.85       0\n",
       "2023-03-17 10:58:00  3189.85  3193.15  3189.45  3192.10       0\n",
       "2023-03-17 10:59:00  3192.10  3192.90  3191.75  3192.05       0\n",
       "2023-03-17 11:00:00  3192.05  3193.25  3190.65  3191.55       0"
      ]
     },
     "execution_count": 13,
     "metadata": {},
     "output_type": "execute_result"
    }
   ],
   "source": [
    "df_fut.tail()"
   ]
  },
  {
   "cell_type": "code",
   "execution_count": 14,
   "id": "a7e11c2e",
   "metadata": {},
   "outputs": [],
   "source": [
    "df_fut.to_csv('fut.csv')"
   ]
  },
  {
   "cell_type": "code",
   "execution_count": 15,
   "id": "32e84290",
   "metadata": {},
   "outputs": [],
   "source": [
    "def gethistoricaldata_options(interval, from_date, to_date, stock_code, right, expiry_date, strike_price):\n",
    "    data = breeze.get_historical_data(interval= interval,\n",
    "                                from_date= from_date,\n",
    "                                to_date= to_date,\n",
    "                                stock_code= stock_code,\n",
    "                                exchange_code=\"NFO\",\n",
    "                                product_type=\"options\",\n",
    "                                expiry_date=expiry_date,\n",
    "                                right=right,\n",
    "                                strike_price=strike_price)\n",
    "    put_data = pd.DataFrame(data[\"Success\"])\n",
    "    if put_data.empty:\n",
    "        print('Data not found:', to_date)\n",
    "        df = pd.DataFrame()\n",
    "        return df\n",
    "    else:\n",
    "        df = put_data[['datetime', 'open', 'high', 'low', 'close']]\n",
    "    return df \n"
   ]
  },
  {
   "cell_type": "code",
   "execution_count": 16,
   "id": "b838539a",
   "metadata": {},
   "outputs": [
    {
     "name": "stdout",
     "output_type": "stream",
     "text": [
      "Data not found: 2024-08-12T05:30:00.000Z\n"
     ]
    },
    {
     "data": {
      "text/html": [
       "<div>\n",
       "<style scoped>\n",
       "    .dataframe tbody tr th:only-of-type {\n",
       "        vertical-align: middle;\n",
       "    }\n",
       "\n",
       "    .dataframe tbody tr th {\n",
       "        vertical-align: top;\n",
       "    }\n",
       "\n",
       "    .dataframe thead th {\n",
       "        text-align: right;\n",
       "    }\n",
       "</style>\n",
       "<table border=\"1\" class=\"dataframe\">\n",
       "  <thead>\n",
       "    <tr style=\"text-align: right;\">\n",
       "      <th></th>\n",
       "    </tr>\n",
       "  </thead>\n",
       "  <tbody>\n",
       "  </tbody>\n",
       "</table>\n",
       "</div>"
      ],
      "text/plain": [
       "Empty DataFrame\n",
       "Columns: []\n",
       "Index: []"
      ]
     },
     "execution_count": 16,
     "metadata": {},
     "output_type": "execute_result"
    }
   ],
   "source": [
    "tdate = datetime.datetime.now()\n",
    "fdate = tdate - datetime.timedelta(days=2)\n",
    "expiry_date = datetime.date(2023, 3, 29)\n",
    "tdate_iso = tdate.isoformat()[:10] + 'T05:30:00.000Z'\n",
    "fdate_iso = fdate.isoformat()[:10] + 'T05:30:00.000Z'\n",
    "expiry_date_iso = expiry_date.isoformat()[:10] + 'T05:30:00.000Z'\n",
    "icici_code = breeze.get_names(exchange_code = 'NSE',stock_code = 'INFY').get('isec_stock_code')\n",
    "gethistoricaldata_options('5minute',fdate_iso, tdate_iso, icici_code, \"call\", expiry_date_iso, 1500)"
   ]
  },
  {
   "cell_type": "code",
   "execution_count": null,
   "id": "5c331326",
   "metadata": {},
   "outputs": [],
   "source": []
  }
 ],
 "metadata": {
  "kernelspec": {
   "display_name": "Python 3 (ipykernel)",
   "language": "python",
   "name": "python3"
  },
  "language_info": {
   "codemirror_mode": {
    "name": "ipython",
    "version": 3
   },
   "file_extension": ".py",
   "mimetype": "text/x-python",
   "name": "python",
   "nbconvert_exporter": "python",
   "pygments_lexer": "ipython3",
   "version": "3.12.4"
  }
 },
 "nbformat": 4,
 "nbformat_minor": 5
}
