{
 "cells": [
  {
   "cell_type": "markdown",
   "id": "026b4709",
   "metadata": {},
   "source": [
    "# Introduction to Selenium Python Library"
   ]
  },
  {
   "cell_type": "code",
   "execution_count": 1,
   "id": "51d3d6b3",
   "metadata": {},
   "outputs": [],
   "source": [
    "from selenium import webdriver"
   ]
  },
  {
   "cell_type": "code",
   "execution_count": 2,
   "id": "69a17585",
   "metadata": {},
   "outputs": [],
   "source": [
    "browser = webdriver.Chrome()\n",
    "browser.get(\"https://google.co.in\")"
   ]
  },
  {
   "cell_type": "markdown",
   "id": "e1d1cac7",
   "metadata": {},
   "source": [
    "### Version Issues in Selenium"
   ]
  },
  {
   "cell_type": "markdown",
   "id": "8da03191",
   "metadata": {},
   "source": [
    "In case you are facing Error using selenium:<br>\n",
    "* pip install -U selenium\n",
    "* download latest chromedriver (not Chrome) from https://googlechromelabs.github.io/chrome-for-testing/\n",
    "for your operating system\n",
    "* put the file in C:\\windows"
   ]
  },
  {
   "cell_type": "code",
   "execution_count": null,
   "id": "19c4f0a4",
   "metadata": {},
   "outputs": [],
   "source": []
  }
 ],
 "metadata": {
  "kernelspec": {
   "display_name": "Python 3 (ipykernel)",
   "language": "python",
   "name": "python3"
  },
  "language_info": {
   "codemirror_mode": {
    "name": "ipython",
    "version": 3
   },
   "file_extension": ".py",
   "mimetype": "text/x-python",
   "name": "python",
   "nbconvert_exporter": "python",
   "pygments_lexer": "ipython3",
   "version": "3.9.13"
  }
 },
 "nbformat": 4,
 "nbformat_minor": 5
}
