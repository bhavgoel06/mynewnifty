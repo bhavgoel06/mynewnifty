{
 "cells": [
  {
   "cell_type": "code",
   "execution_count": null,
   "id": "67984a4e",
   "metadata": {},
   "outputs": [],
   "source": [
    "import pandas as pd\n",
    "df = pd.read_csv(\"tick.csv\")\n",
    "df"
   ]
  },
  {
   "cell_type": "code",
   "execution_count": null,
   "id": "b76c8522",
   "metadata": {},
   "outputs": [],
   "source": [
    "df['datetime'] = pd.to_datetime(df['Date'] + ' ' + df['Time'])\n",
    "df.head()"
   ]
  },
  {
   "cell_type": "code",
   "execution_count": null,
   "id": "0a3c793e",
   "metadata": {},
   "outputs": [],
   "source": [
    "df.drop(['Date', 'Time'], inplace=True, axis=1)\n",
    "df.head()"
   ]
  },
  {
   "cell_type": "code",
   "execution_count": null,
   "id": "b7f5b773",
   "metadata": {},
   "outputs": [],
   "source": [
    "df['datetime'] = pd.to_datetime(df['datetime'])\n",
    "df.set_index('datetime', inplace=True)\n",
    "df.head()"
   ]
  },
  {
   "cell_type": "code",
   "execution_count": null,
   "id": "7b401c1f",
   "metadata": {},
   "outputs": [],
   "source": [
    "df.resample('1T').last()"
   ]
  },
  {
   "cell_type": "code",
   "execution_count": null,
   "id": "1de22b57",
   "metadata": {},
   "outputs": [],
   "source": [
    "df.resample('1T').ohlc()"
   ]
  },
  {
   "cell_type": "code",
   "execution_count": null,
   "id": "953304e5",
   "metadata": {},
   "outputs": [],
   "source": [
    "df.resample('5T').mean()"
   ]
  },
  {
   "cell_type": "code",
   "execution_count": null,
   "id": "3c91b6e2",
   "metadata": {},
   "outputs": [],
   "source": [
    "df.resample('1H', kind='period').last()"
   ]
  },
  {
   "cell_type": "code",
   "execution_count": null,
   "id": "0dea58f4",
   "metadata": {},
   "outputs": [],
   "source": [
    "df.resample('1H', kind='timestamp').last()"
   ]
  },
  {
   "cell_type": "code",
   "execution_count": null,
   "id": "176314aa",
   "metadata": {},
   "outputs": [],
   "source": [
    "df.resample('1D', kind='timestamp').last()"
   ]
  },
  {
   "cell_type": "code",
   "execution_count": null,
   "id": "f6279829",
   "metadata": {},
   "outputs": [],
   "source": [
    "df_daily = pd.read_csv('daily.csv', parse_dates=['date'], index_col='date')\n",
    "df_daily.head()"
   ]
  },
  {
   "cell_type": "code",
   "execution_count": null,
   "id": "ddaa5f13",
   "metadata": {},
   "outputs": [],
   "source": [
    "df_daily.resample('W').last()"
   ]
  },
  {
   "cell_type": "code",
   "execution_count": null,
   "id": "dfbcd9dc",
   "metadata": {},
   "outputs": [],
   "source": [
    "df_daily.resample('M').last().head()"
   ]
  },
  {
   "cell_type": "code",
   "execution_count": null,
   "id": "93119647",
   "metadata": {},
   "outputs": [],
   "source": [
    "df_daily.resample('Q').last().head()"
   ]
  },
  {
   "cell_type": "code",
   "execution_count": null,
   "id": "580c505f",
   "metadata": {},
   "outputs": [],
   "source": [
    "df_daily.resample('YS').last()"
   ]
  },
  {
   "cell_type": "code",
   "execution_count": null,
   "id": "3a1a0f3f",
   "metadata": {},
   "outputs": [],
   "source": []
  }
 ],
 "metadata": {
  "kernelspec": {
   "display_name": "Python 3 (ipykernel)",
   "language": "python",
   "name": "python3"
  },
  "language_info": {
   "codemirror_mode": {
    "name": "ipython",
    "version": 3
   },
   "file_extension": ".py",
   "mimetype": "text/x-python",
   "name": "python",
   "nbconvert_exporter": "python",
   "pygments_lexer": "ipython3",
   "version": "3.9.13"
  }
 },
 "nbformat": 4,
 "nbformat_minor": 5
}
