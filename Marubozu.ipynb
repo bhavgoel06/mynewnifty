{
 "cells": [
  {
   "cell_type": "markdown",
   "id": "1979b5d0",
   "metadata": {},
   "source": [
    "# Marubozu Candle"
   ]
  },
  {
   "cell_type": "code",
   "execution_count": null,
   "id": "950dd93b",
   "metadata": {},
   "outputs": [],
   "source": [
    "import pandas as pd\n",
    "import numpy as np\n",
    "import talib\n",
    "import plotly.graph_objects as go\n",
    "import datetime"
   ]
  },
  {
   "cell_type": "code",
   "execution_count": null,
   "id": "5c5bd5a2",
   "metadata": {},
   "outputs": [],
   "source": [
    "df = pd.read_csv(\"nifty5min.csv\")\n",
    "df = df[(df.Date > '2022-09-04 9:00:00') & (df.Date < '2022-09-05 15:30:00')]\n",
    "df.set_index(\"Date\", inplace=True)\n",
    "df = df[['Open', 'High', 'Low', 'Close']]\n",
    "df.head(10)"
   ]
  },
  {
   "cell_type": "code",
   "execution_count": null,
   "id": "dec91ff0",
   "metadata": {},
   "outputs": [],
   "source": [
    "marubozu = talib.CDLCLOSINGMARUBOZU(df['Open'], df['High'], df['Low'], df['Close'])\n",
    "df['marubozu']= marubozu\n",
    "df['SignalGreen'] = False\n",
    "df['SignalRed'] = False\n",
    "df['body'] = abs(df['Open'] - df['Close'])\n",
    "\n",
    "def createsignal(marubozu):\n",
    "    import numpy as np\n",
    "    SignalGreen   = []\n",
    "    SignalRed = []\n",
    "    i = 0\n",
    "    for date,value in marubozu.iteritems():\n",
    "        if value == 100:\n",
    "            SignalGreen.append(df['High'].iloc[i] + 10)\n",
    "            df['SignalGreen'].iat[i] = True\n",
    "            SignalRed.append(np.nan)\n",
    "        elif value == -100:\n",
    "            SignalRed.append(df['High'].iloc[i] + 10)\n",
    "            SignalGreen.append(np.nan)\n",
    "            df['SignalRed'].iat[i] = True\n",
    "        else:\n",
    "            SignalGreen.append(np.nan)\n",
    "            SignalRed.append(np.nan)\n",
    "        i += 1\n",
    "    return SignalGreen, SignalRed"
   ]
  },
  {
   "cell_type": "code",
   "execution_count": null,
   "id": "366e269b",
   "metadata": {},
   "outputs": [],
   "source": [
    "marubozu[marubozu!=0]"
   ]
  },
  {
   "cell_type": "code",
   "execution_count": null,
   "id": "1215c41f",
   "metadata": {},
   "outputs": [],
   "source": [
    "SignalGreen, SignalRed = createsignal(marubozu)\n",
    "x = df.index.tolist()"
   ]
  },
  {
   "cell_type": "code",
   "execution_count": null,
   "id": "dcad5f32",
   "metadata": {},
   "outputs": [],
   "source": [
    "SignalGreen"
   ]
  },
  {
   "cell_type": "code",
   "execution_count": null,
   "id": "f9d71313",
   "metadata": {},
   "outputs": [],
   "source": [
    "fig = go.Figure(data=[go.Candlestick(x=df.index,\n",
    "                open=df.Open, high=df.High,\n",
    "                low=df.Low, close=df.Close)\n",
    "                     ])\n",
    "\n",
    "fig.update_layout(xaxis_rangeslider_visible=False)\n",
    "fig.update_layout(\n",
    "    width=800, height=600,\n",
    "    title=\"INFY Jan 12, 2023\",\n",
    "    yaxis_title='Price',\n",
    "    xaxis=dict(type = \"category\")\n",
    ")\n",
    "\n",
    "fig.add_trace(go.Scatter(\n",
    "    x=x,\n",
    "    y=SignalGreen,\n",
    "    name ='Marubozu Green',\n",
    "    mode=\"markers\", \n",
    "    marker_size=10,\n",
    "    marker = dict(color='green', symbol = \"square-dot\")   \n",
    "))\n",
    "\n",
    "fig.add_trace(go.Scatter(\n",
    "    x=x,\n",
    "    y=SignalRed,\n",
    "    name ='Marubozu Red',\n",
    "    mode=\"markers\", \n",
    "    marker_size=10,\n",
    "    marker = dict(color='red', symbol = \"square-dot\")   \n",
    "))\n",
    "\n",
    "fig.show()\n"
   ]
  },
  {
   "cell_type": "code",
   "execution_count": null,
   "id": "a01d1d83",
   "metadata": {},
   "outputs": [],
   "source": [
    "df['Upper Wick'] = df['Close'] - df['High']\n",
    "df['Lower Wick'] = df['Low'] - df['Open']\n",
    "df['Candle Size'] = abs(df['Close'] - df['Open'])\n",
    "df['Candle Average'] = df['Candle Size'].median()"
   ]
  },
  {
   "cell_type": "markdown",
   "id": "8b6f13f3",
   "metadata": {},
   "source": [
    "Green Marubozus where the upper wick > lower wick "
   ]
  },
  {
   "cell_type": "code",
   "execution_count": null,
   "id": "f1370e2b",
   "metadata": {},
   "outputs": [],
   "source": [
    "df[df.SignalGreen == True]"
   ]
  },
  {
   "cell_type": "markdown",
   "id": "73195fa8",
   "metadata": {},
   "source": [
    "Red Marubozus where the upper wick < lower wick"
   ]
  },
  {
   "cell_type": "code",
   "execution_count": null,
   "id": "0cd9d6a3",
   "metadata": {},
   "outputs": [],
   "source": [
    "df[df.SignalRed == True]"
   ]
  },
  {
   "cell_type": "markdown",
   "id": "39523424",
   "metadata": {},
   "source": [
    " upper wick !>= lower wick"
   ]
  },
  {
   "cell_type": "code",
   "execution_count": null,
   "id": "f64cef43",
   "metadata": {},
   "outputs": [],
   "source": [
    "df[df.index == '2022-09-05 09:15:00']"
   ]
  },
  {
   "cell_type": "code",
   "execution_count": null,
   "id": "73539489",
   "metadata": {},
   "outputs": [],
   "source": []
  }
 ],
 "metadata": {
  "kernelspec": {
   "display_name": "Python 3 (ipykernel)",
   "language": "python",
   "name": "python3"
  },
  "language_info": {
   "codemirror_mode": {
    "name": "ipython",
    "version": 3
   },
   "file_extension": ".py",
   "mimetype": "text/x-python",
   "name": "python",
   "nbconvert_exporter": "python",
   "pygments_lexer": "ipython3",
   "version": "3.9.12"
  }
 },
 "nbformat": 4,
 "nbformat_minor": 5
}
