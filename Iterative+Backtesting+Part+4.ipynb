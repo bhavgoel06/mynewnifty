{
 "cells": [
  {
   "cell_type": "markdown",
   "id": "355ab718-89d0-416c-b94e-a9159c120b60",
   "metadata": {},
   "source": [
    "# Iterative Backtesting - Part 4 (Close Positions)"
   ]
  },
  {
   "cell_type": "code",
   "execution_count": null,
   "id": "ac35c7fa-0030-422d-b835-2e94c141e561",
   "metadata": {},
   "outputs": [],
   "source": [
    "import pandas as pd\n",
    "import datetime\n",
    "from datetime import timedelta\n",
    "import numpy as np"
   ]
  },
  {
   "cell_type": "code",
   "execution_count": null,
   "id": "a432ea36-e825-451c-a25f-6ed82b7ef789",
   "metadata": {},
   "outputs": [],
   "source": [
    "class Backtester():\n",
    "    def __init__(self, ticker, ema_short_period, ema_long_period, amount):\n",
    "        self.symbol = ticker\n",
    "        self.ema_s = ema_short_period\n",
    "        self.ema_l = ema_long_period\n",
    "        self.result = None\n",
    "        self.trades = 0\n",
    "        self.units = 0\n",
    "        self.logs = pd.DataFrame()\n",
    "        self.data = pd.DataFrame()\n",
    "        self.position = 0\n",
    "        self.initial_balance = amount\n",
    "        self.current_balance = amount\n",
    "\n",
    "        \n",
    "    def fetch_data(self):\n",
    "        # API, Database, csv file\n",
    "        data = pd.read_csv('eurusd.csv')\n",
    "        data['date'] = pd.to_datetime(data['date'])\n",
    "        data.set_index('date', drop=True, inplace=True)\n",
    "        data['return'] = np.log(data.close/data.close.shift(1))\n",
    "        data['ema_short'] = data['close'].ewm(span=self.ema_s, adjust=False).mean()\n",
    "        data['ema_long'] = data['close'].ewm(span=self.ema_l, adjust=False).mean()\n",
    "        self.data = data\n",
    "\n",
    "    def access_data(self, bar):\n",
    "        date_value = self.data.index[bar].date()\n",
    "        price = float(self.data['close'].iloc[bar])\n",
    "        ema_short = float(self.data['ema_short'].iloc[bar])\n",
    "        ema_long = float(self.data['ema_long'].iloc[bar])\n",
    "        return date_value, price, ema_short, ema_long\n",
    "\n",
    "    def get_balance(self):\n",
    "        return self.current_balance\n",
    "        \n",
    "    def get_current_position(self, bar):\n",
    "        date_value, price, ema_short, ema_long = self.access_data(bar)\n",
    "        current_position = self.units * price\n",
    "        print(f\" Current Position Value: {current_position}\")\n",
    "\n",
    "    def get_current_NAV(self, bar):\n",
    "        date_value, price, ema_short, ema_long = self.access_data(bar)\n",
    "        current_position = self.units * price\n",
    "        current_NAV = self.current_balance + current_position\n",
    "        print(f\" Current NAV: {current_NAV}\")\n",
    "        \n",
    "    def buy_instrument(self, bar, qty):\n",
    "        date_value, price, ema_short, ema_long = self.access_data(bar)\n",
    "        self.units = self.units + qty\n",
    "        self.current_balance = self.current_balance - (price * qty)\n",
    "        self.trades = self.trades + 1\n",
    "        print(f\"{date_value} | BUY {qty} @ $: {round(price, 2) }\")\n",
    "    def sell_instrument(self, bar, qty):\n",
    "        date_value, price, ema_short, ema_long = self.access_data(bar)\n",
    "        self.units = self.units - qty\n",
    "        self.current_balance = self.current_balance + (price * qty)\n",
    "        self.trades = self.trades + 1        \n",
    "        print(f\"{date_value} | SELL {qty} @ $: {round(price, 2) }\")\n",
    "        \n",
    "    def close_positions(self, bar):\n",
    "        date_value, price, ema_short, ema_long = self.access_data(bar)\n",
    "        if self.position != 0:\n",
    "            print(\"\\n\")\n",
    "            print('$$$ - Closing positions Finally - $$$')\n",
    "            if self.position == 1:\n",
    "                self.sell_instrument(bar = bar, qty = abs(self.units))\n",
    "            elif self.position == -1:\n",
    "                self.buy_instrument(bar = bar, qty = abs(self.units))\n",
    "            self.position = 0\n",
    "        performance = ((self.current_balance - self.initial_balance) / self.initial_balance) * 100\n",
    "        print(\"\\n\")\n",
    "        print(\"------------------- Summary -----------------\")\n",
    "        print(f\"Performance: {round(performance, 2)} %\")\n",
    "        self.net_balance = self.get_balance()\n",
    "        print(f\"Current Balance: {self.net_balance}\")\n",
    "        print(f\"Number of Trades: {self.trades}\")\n"
   ]
  },
  {
   "cell_type": "code",
   "execution_count": null,
   "id": "addf563b-3ca6-4a00-8d44-e4c4162e2d64",
   "metadata": {},
   "outputs": [],
   "source": [
    "obj = Backtester(ticker = 'NIFTY', ema_short_period = 50, ema_long_period = 200, amount = 70000)\n",
    "obj.fetch_data()"
   ]
  },
  {
   "cell_type": "markdown",
   "id": "390145db-7560-4af8-af23-7a077a342cee",
   "metadata": {},
   "source": [
    "## Iterate Over Data"
   ]
  },
  {
   "cell_type": "code",
   "execution_count": null,
   "id": "9514d9cd-f512-4e82-a235-84459d085682",
   "metadata": {},
   "outputs": [],
   "source": [
    "for i in range(10):\n",
    "    print(i)"
   ]
  },
  {
   "cell_type": "code",
   "execution_count": null,
   "id": "ba73a59f-266c-4d87-b35a-f95ef41b82b5",
   "metadata": {},
   "outputs": [],
   "source": [
    "n = 10  # number of rows you want\n",
    "for date, row in obj.data.head(n).iterrows():\n",
    "    print(date, row['close'], row['ema_short'], row['ema_long'])\n"
   ]
  },
  {
   "cell_type": "code",
   "execution_count": null,
   "id": "00d3a25c-9e71-4197-bc68-89296164d841",
   "metadata": {},
   "outputs": [],
   "source": [
    "n = 10  # number of rows\n",
    "for i in range(n):\n",
    "    row = obj.data.iloc[i]\n",
    "    date = obj.data.index[i]\n",
    "    print(date, row['close'], row['ema_short'], row['ema_long'])\n"
   ]
  },
  {
   "cell_type": "code",
   "execution_count": null,
   "id": "57e0f9ca-b521-4575-b9b5-9a7f8fd52151",
   "metadata": {},
   "outputs": [],
   "source": []
  }
 ],
 "metadata": {
  "kernelspec": {
   "display_name": "Python [conda env:base] *",
   "language": "python",
   "name": "conda-base-py"
  },
  "language_info": {
   "codemirror_mode": {
    "name": "ipython",
    "version": 3
   },
   "file_extension": ".py",
   "mimetype": "text/x-python",
   "name": "python",
   "nbconvert_exporter": "python",
   "pygments_lexer": "ipython3",
   "version": "3.12.7"
  }
 },
 "nbformat": 4,
 "nbformat_minor": 5
}
