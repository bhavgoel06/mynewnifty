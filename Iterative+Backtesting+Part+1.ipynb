{
 "cells": [
  {
   "cell_type": "markdown",
   "id": "355ab718-89d0-416c-b94e-a9159c120b60",
   "metadata": {},
   "source": [
    "# Iterative Backtesting - Part 1 - Creating class"
   ]
  },
  {
   "cell_type": "code",
   "execution_count": null,
   "id": "ac35c7fa-0030-422d-b835-2e94c141e561",
   "metadata": {},
   "outputs": [],
   "source": [
    "import pandas as pd\n",
    "import numpy as np\n",
    "import datetime\n",
    "from datetime import timedelta"
   ]
  },
  {
   "cell_type": "code",
   "execution_count": null,
   "id": "a432ea36-e825-451c-a25f-6ed82b7ef789",
   "metadata": {},
   "outputs": [],
   "source": [
    "class Backtester():\n",
    "    def __init__(self, ticker, ema_short_period, ema_long_period, amount):\n",
    "        self.symbol = ticker\n",
    "        self.ema_s = ema_short_period\n",
    "        self.ema_l = ema_long_period\n",
    "        self.result = None\n",
    "        self.trades = 0\n",
    "        self.units = 0\n",
    "        self.logs = pd.DataFrame()\n",
    "        self.data = pd.DataFrame()\n",
    "        self.position = 0\n",
    "        self.initial_balance = amount\n",
    "        self.current_balance = amount\n",
    "        \n",
    "    def set_params(ema_short_period, ema_long_period):\n",
    "        self.ema_s = ema_short_period\n",
    "        self.ema_l = ema_long_period\n",
    "        \n",
    "    def reset_variables(self):\n",
    "        self.result = None\n",
    "        self.trades = 0\n",
    "        self.units = 0\n",
    "        self.logs = pd.DataFrame()\n",
    "        self.data = pd.DataFrame()\n",
    "        self.position = 0\n",
    "        self.current_balance = self.initial_balance"
   ]
  },
  {
   "cell_type": "code",
   "execution_count": null,
   "id": "addf563b-3ca6-4a00-8d44-e4c4162e2d64",
   "metadata": {},
   "outputs": [],
   "source": [
    "obj = Backtester(ticker = 'NIFTY', ema_short_period = 50, ema_long_period = 200, amount = 70000)"
   ]
  },
  {
   "cell_type": "code",
   "execution_count": null,
   "id": "05777165-f5e9-490e-870f-632dbc6e975a",
   "metadata": {},
   "outputs": [],
   "source": [
    "obj.symbol, obj.ema_s, obj.ema_l, obj.trades"
   ]
  },
  {
   "cell_type": "code",
   "execution_count": null,
   "id": "57e0f9ca-b521-4575-b9b5-9a7f8fd52151",
   "metadata": {},
   "outputs": [],
   "source": []
  }
 ],
 "metadata": {
  "kernelspec": {
   "display_name": "Python [conda env:base] *",
   "language": "python",
   "name": "conda-base-py"
  },
  "language_info": {
   "codemirror_mode": {
    "name": "ipython",
    "version": 3
   },
   "file_extension": ".py",
   "mimetype": "text/x-python",
   "name": "python",
   "nbconvert_exporter": "python",
   "pygments_lexer": "ipython3",
   "version": "3.12.7"
  }
 },
 "nbformat": 4,
 "nbformat_minor": 5
}
