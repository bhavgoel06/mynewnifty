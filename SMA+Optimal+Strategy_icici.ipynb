{
 "cells": [
  {
   "cell_type": "markdown",
   "id": "58d9c48d",
   "metadata": {},
   "source": [
    "# SMA - Optimal Strategy"
   ]
  },
  {
   "cell_type": "markdown",
   "id": "52dc6ad0",
   "metadata": {},
   "source": [
    "Purpose: Optimize Strategy Moving Average values"
   ]
  },
  {
   "cell_type": "code",
   "execution_count": 17,
   "id": "3bc8f724",
   "metadata": {},
   "outputs": [],
   "source": [
    "import pandas as pd\n",
    "import numpy as np\n",
    "import pandas_ta as ta\n",
    "from itertools import product\n",
    "from IPython.display import display, clear_output"
   ]
  },
  {
   "cell_type": "code",
   "execution_count": 18,
   "id": "ac4546f9",
   "metadata": {},
   "outputs": [],
   "source": [
    "class IterativeBase():\n",
    "    def __init__(self):\n",
    "        pass\n",
    "\n",
    "    def get_data(self):\n",
    "        raw = pd.read_csv(\"https://algo.kimbly.in/DataSets/nifty.csv\", parse_dates=[\"date\"], index_col=\"date\")\n",
    "        self.original_data = raw.copy()\n",
    "\n",
    "    def initiate_values(self, ema_short, ema_long):\n",
    "        self.data = self.original_data.copy(deep=True)\n",
    "        self.data['EMA_S'] = ta.ema(self.data['close'], ema_short)\n",
    "        self.data['EMA_L'] = ta.ema(self.data['close'], ema_long)\n",
    "        self.data.dropna(inplace=True)\n",
    "        self.data['returns'] = np.log(self.data.close / self.data.close.shift(1))\n",
    "    \n",
    "    def test(self):\n",
    "        self.data[\"position\"] = np.where(self.data[\"EMA_S\"] > self.data[\"EMA_L\"], 1, -1)\n",
    "        self.data[\"returns\"] = np.log(self.data.close.div(self.data.close.shift(1)))\n",
    "        self.data[\"strategy\"] = self.data.position.shift(1) * self.data.returns\n",
    "        self.data.dropna(inplace=True)\n",
    "\n",
    " \n",
    "    def calc_performance(self):\n",
    "        self.data[\"strategy\"] = self.data.position.shift(1) * self.data.returns\n",
    "        self.data.dropna(inplace=True)\n",
    "        self.data[\"cm_returns\"] = self.data[\"returns\"].cumsum().apply(np.exp)\n",
    "        self.data[\"cm_strategy\"] = self.data[\"strategy\"].cumsum().apply(np.exp)\n",
    "        out_perf = self.data[\"cm_strategy\"].iloc[-1] - self.data[\"cm_returns\"].iloc[-1]\n",
    "        return round(out_perf, 2)\n",
    "        "
   ]
  },
  {
   "cell_type": "code",
   "execution_count": 20,
   "id": "3ddb5ca7",
   "metadata": {},
   "outputs": [],
   "source": [
    "class IterativeBacktest(IterativeBase):\n",
    "    def __init__(self):\n",
    "        super().__init__()\n",
    "        self.get_data()\n",
    "    \n",
    "    def test_ema_strategy(self, ema_short, ema_long):\n",
    "        self.initiate_values(ema_short, ema_long)\n",
    "        self.test()\n",
    "        return self.calc_performance()"
   ]
  },
  {
   "cell_type": "code",
   "execution_count": 21,
   "id": "aa305236",
   "metadata": {},
   "outputs": [],
   "source": [
    "bc = IterativeBacktest()"
   ]
  },
  {
   "cell_type": "code",
   "execution_count": 22,
   "id": "8a6fe577",
   "metadata": {},
   "outputs": [
    {
     "data": {
      "text/plain": [
       "-2.1"
      ]
     },
     "execution_count": 22,
     "metadata": {},
     "output_type": "execute_result"
    }
   ],
   "source": [
    "ema_short = 5\n",
    "ema_long = 26\n",
    "bc.test_ema_strategy(ema_short, ema_long)"
   ]
  },
  {
   "cell_type": "code",
   "execution_count": 24,
   "id": "841c3216",
   "metadata": {
    "scrolled": false
   },
   "outputs": [
    {
     "name": "stdout",
     "output_type": "stream",
     "text": [
      "675  of  675\n"
     ]
    }
   ],
   "source": [
    "ema_short = range(3, 30, 1)\n",
    "ema_long = range(25,50, 1)\n",
    "\n",
    "combinations = list(product(ema_short, ema_long))\n",
    "results = []\n",
    "i = 0\n",
    "for comb in combinations:\n",
    "    i+= 1\n",
    "    print(*comb)\n",
    "    results.append(bc.test_ema_strategy(*comb))\n",
    "    clear_output(wait=True)\n",
    "    print(i, ' of ', len(combinations))\n",
    "#results"
   ]
  },
  {
   "cell_type": "code",
   "execution_count": 25,
   "id": "f4c5982a",
   "metadata": {},
   "outputs": [
    {
     "data": {
      "text/plain": [
       "-0.54"
      ]
     },
     "execution_count": 25,
     "metadata": {},
     "output_type": "execute_result"
    }
   ],
   "source": [
    "np.max(results)"
   ]
  },
  {
   "cell_type": "code",
   "execution_count": 26,
   "id": "b21d8a26",
   "metadata": {},
   "outputs": [
    {
     "data": {
      "text/plain": [
       "-3.14"
      ]
     },
     "execution_count": 26,
     "metadata": {},
     "output_type": "execute_result"
    }
   ],
   "source": [
    "np.min(results)"
   ]
  },
  {
   "cell_type": "code",
   "execution_count": 27,
   "id": "80a3b7ed",
   "metadata": {},
   "outputs": [
    {
     "data": {
      "text/html": [
       "<div>\n",
       "<style scoped>\n",
       "    .dataframe tbody tr th:only-of-type {\n",
       "        vertical-align: middle;\n",
       "    }\n",
       "\n",
       "    .dataframe tbody tr th {\n",
       "        vertical-align: top;\n",
       "    }\n",
       "\n",
       "    .dataframe thead th {\n",
       "        text-align: right;\n",
       "    }\n",
       "</style>\n",
       "<table border=\"1\" class=\"dataframe\">\n",
       "  <thead>\n",
       "    <tr style=\"text-align: right;\">\n",
       "      <th></th>\n",
       "      <th>EMA_S</th>\n",
       "      <th>EMA_L</th>\n",
       "      <th>performance</th>\n",
       "    </tr>\n",
       "  </thead>\n",
       "  <tbody>\n",
       "    <tr>\n",
       "      <th>670</th>\n",
       "      <td>29</td>\n",
       "      <td>45</td>\n",
       "      <td>-1.41</td>\n",
       "    </tr>\n",
       "    <tr>\n",
       "      <th>671</th>\n",
       "      <td>29</td>\n",
       "      <td>46</td>\n",
       "      <td>-1.61</td>\n",
       "    </tr>\n",
       "    <tr>\n",
       "      <th>672</th>\n",
       "      <td>29</td>\n",
       "      <td>47</td>\n",
       "      <td>-1.67</td>\n",
       "    </tr>\n",
       "    <tr>\n",
       "      <th>673</th>\n",
       "      <td>29</td>\n",
       "      <td>48</td>\n",
       "      <td>-1.57</td>\n",
       "    </tr>\n",
       "    <tr>\n",
       "      <th>674</th>\n",
       "      <td>29</td>\n",
       "      <td>49</td>\n",
       "      <td>-1.54</td>\n",
       "    </tr>\n",
       "  </tbody>\n",
       "</table>\n",
       "</div>"
      ],
      "text/plain": [
       "     EMA_S  EMA_L  performance\n",
       "670     29     45        -1.41\n",
       "671     29     46        -1.61\n",
       "672     29     47        -1.67\n",
       "673     29     48        -1.57\n",
       "674     29     49        -1.54"
      ]
     },
     "execution_count": 27,
     "metadata": {},
     "output_type": "execute_result"
    }
   ],
   "source": [
    "dfFinal = pd.DataFrame(data=combinations, columns=[\"EMA_S\", \"EMA_L\"])\n",
    "dfFinal[\"performance\"] = results\n",
    "dfFinal.tail()"
   ]
  },
  {
   "cell_type": "code",
   "execution_count": 28,
   "id": "d4137535",
   "metadata": {},
   "outputs": [
    {
     "data": {
      "text/html": [
       "<div>\n",
       "<style scoped>\n",
       "    .dataframe tbody tr th:only-of-type {\n",
       "        vertical-align: middle;\n",
       "    }\n",
       "\n",
       "    .dataframe tbody tr th {\n",
       "        vertical-align: top;\n",
       "    }\n",
       "\n",
       "    .dataframe thead th {\n",
       "        text-align: right;\n",
       "    }\n",
       "</style>\n",
       "<table border=\"1\" class=\"dataframe\">\n",
       "  <thead>\n",
       "    <tr style=\"text-align: right;\">\n",
       "      <th></th>\n",
       "      <th>EMA_S</th>\n",
       "      <th>EMA_L</th>\n",
       "      <th>performance</th>\n",
       "    </tr>\n",
       "  </thead>\n",
       "  <tbody>\n",
       "    <tr>\n",
       "      <th>72</th>\n",
       "      <td>5</td>\n",
       "      <td>47</td>\n",
       "      <td>-0.54</td>\n",
       "    </tr>\n",
       "    <tr>\n",
       "      <th>44</th>\n",
       "      <td>4</td>\n",
       "      <td>44</td>\n",
       "      <td>-0.60</td>\n",
       "    </tr>\n",
       "    <tr>\n",
       "      <th>71</th>\n",
       "      <td>5</td>\n",
       "      <td>46</td>\n",
       "      <td>-0.61</td>\n",
       "    </tr>\n",
       "    <tr>\n",
       "      <th>231</th>\n",
       "      <td>12</td>\n",
       "      <td>31</td>\n",
       "      <td>-0.62</td>\n",
       "    </tr>\n",
       "    <tr>\n",
       "      <th>46</th>\n",
       "      <td>4</td>\n",
       "      <td>46</td>\n",
       "      <td>-0.63</td>\n",
       "    </tr>\n",
       "    <tr>\n",
       "      <th>43</th>\n",
       "      <td>4</td>\n",
       "      <td>43</td>\n",
       "      <td>-0.66</td>\n",
       "    </tr>\n",
       "    <tr>\n",
       "      <th>98</th>\n",
       "      <td>6</td>\n",
       "      <td>48</td>\n",
       "      <td>-0.66</td>\n",
       "    </tr>\n",
       "    <tr>\n",
       "      <th>45</th>\n",
       "      <td>4</td>\n",
       "      <td>45</td>\n",
       "      <td>-0.67</td>\n",
       "    </tr>\n",
       "    <tr>\n",
       "      <th>47</th>\n",
       "      <td>4</td>\n",
       "      <td>47</td>\n",
       "      <td>-0.67</td>\n",
       "    </tr>\n",
       "    <tr>\n",
       "      <th>229</th>\n",
       "      <td>12</td>\n",
       "      <td>29</td>\n",
       "      <td>-0.67</td>\n",
       "    </tr>\n",
       "  </tbody>\n",
       "</table>\n",
       "</div>"
      ],
      "text/plain": [
       "     EMA_S  EMA_L  performance\n",
       "72       5     47        -0.54\n",
       "44       4     44        -0.60\n",
       "71       5     46        -0.61\n",
       "231     12     31        -0.62\n",
       "46       4     46        -0.63\n",
       "43       4     43        -0.66\n",
       "98       6     48        -0.66\n",
       "45       4     45        -0.67\n",
       "47       4     47        -0.67\n",
       "229     12     29        -0.67"
      ]
     },
     "execution_count": 28,
     "metadata": {},
     "output_type": "execute_result"
    }
   ],
   "source": [
    "dfFinal.nlargest(10, \"performance\")"
   ]
  },
  {
   "cell_type": "code",
   "execution_count": 29,
   "id": "df5c16e4",
   "metadata": {},
   "outputs": [
    {
     "data": {
      "text/html": [
       "<div>\n",
       "<style scoped>\n",
       "    .dataframe tbody tr th:only-of-type {\n",
       "        vertical-align: middle;\n",
       "    }\n",
       "\n",
       "    .dataframe tbody tr th {\n",
       "        vertical-align: top;\n",
       "    }\n",
       "\n",
       "    .dataframe thead th {\n",
       "        text-align: right;\n",
       "    }\n",
       "</style>\n",
       "<table border=\"1\" class=\"dataframe\">\n",
       "  <thead>\n",
       "    <tr style=\"text-align: right;\">\n",
       "      <th></th>\n",
       "      <th>EMA_S</th>\n",
       "      <th>EMA_L</th>\n",
       "      <th>performance</th>\n",
       "    </tr>\n",
       "  </thead>\n",
       "  <tbody>\n",
       "    <tr>\n",
       "      <th>550</th>\n",
       "      <td>25</td>\n",
       "      <td>25</td>\n",
       "      <td>-3.14</td>\n",
       "    </tr>\n",
       "    <tr>\n",
       "      <th>602</th>\n",
       "      <td>27</td>\n",
       "      <td>27</td>\n",
       "      <td>-3.14</td>\n",
       "    </tr>\n",
       "    <tr>\n",
       "      <th>576</th>\n",
       "      <td>26</td>\n",
       "      <td>26</td>\n",
       "      <td>-3.12</td>\n",
       "    </tr>\n",
       "    <tr>\n",
       "      <th>654</th>\n",
       "      <td>29</td>\n",
       "      <td>29</td>\n",
       "      <td>-3.11</td>\n",
       "    </tr>\n",
       "    <tr>\n",
       "      <th>628</th>\n",
       "      <td>28</td>\n",
       "      <td>28</td>\n",
       "      <td>-3.09</td>\n",
       "    </tr>\n",
       "    <tr>\n",
       "      <th>601</th>\n",
       "      <td>27</td>\n",
       "      <td>26</td>\n",
       "      <td>-2.79</td>\n",
       "    </tr>\n",
       "    <tr>\n",
       "      <th>575</th>\n",
       "      <td>26</td>\n",
       "      <td>25</td>\n",
       "      <td>-2.78</td>\n",
       "    </tr>\n",
       "    <tr>\n",
       "      <th>600</th>\n",
       "      <td>27</td>\n",
       "      <td>25</td>\n",
       "      <td>-2.76</td>\n",
       "    </tr>\n",
       "    <tr>\n",
       "      <th>652</th>\n",
       "      <td>29</td>\n",
       "      <td>27</td>\n",
       "      <td>-2.76</td>\n",
       "    </tr>\n",
       "    <tr>\n",
       "      <th>625</th>\n",
       "      <td>28</td>\n",
       "      <td>25</td>\n",
       "      <td>-2.73</td>\n",
       "    </tr>\n",
       "  </tbody>\n",
       "</table>\n",
       "</div>"
      ],
      "text/plain": [
       "     EMA_S  EMA_L  performance\n",
       "550     25     25        -3.14\n",
       "602     27     27        -3.14\n",
       "576     26     26        -3.12\n",
       "654     29     29        -3.11\n",
       "628     28     28        -3.09\n",
       "601     27     26        -2.79\n",
       "575     26     25        -2.78\n",
       "600     27     25        -2.76\n",
       "652     29     27        -2.76\n",
       "625     28     25        -2.73"
      ]
     },
     "execution_count": 29,
     "metadata": {},
     "output_type": "execute_result"
    }
   ],
   "source": [
    "dfFinal.nsmallest(10, \"performance\")"
   ]
  },
  {
   "cell_type": "code",
   "execution_count": null,
   "id": "782e3a1e",
   "metadata": {},
   "outputs": [],
   "source": []
  },
  {
   "cell_type": "code",
   "execution_count": null,
   "id": "fb95fc75",
   "metadata": {},
   "outputs": [],
   "source": []
  }
 ],
 "metadata": {
  "kernelspec": {
   "display_name": "Python 3 (ipykernel)",
   "language": "python",
   "name": "python3"
  },
  "language_info": {
   "codemirror_mode": {
    "name": "ipython",
    "version": 3
   },
   "file_extension": ".py",
   "mimetype": "text/x-python",
   "name": "python",
   "nbconvert_exporter": "python",
   "pygments_lexer": "ipython3",
   "version": "3.9.12"
  }
 },
 "nbformat": 4,
 "nbformat_minor": 5
}
