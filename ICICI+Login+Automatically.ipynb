{
 "cells": [
  {
   "cell_type": "code",
   "execution_count": null,
   "id": "7b146019",
   "metadata": {},
   "outputs": [],
   "source": [
    "import pandas as pd\n",
    "from breeze_connect import BreezeConnect\n",
    "import mysql.connector as sqlConnector\n",
    "from datetime import datetime, date, time\n",
    "import warnings\n",
    "warnings.filterwarnings('ignore')"
   ]
  },
  {
   "cell_type": "code",
   "execution_count": null,
   "id": "d7f0d3ce",
   "metadata": {},
   "outputs": [],
   "source": [
    "class DBBasic:\n",
    "    con = sqlConnector.connect(host=\"xyz.in\", user=\"user\", passwd=\"*******\", database=\"algo\", port=\"3309\")\n",
    "    def __init__(self):\n",
    "        pass    \n",
    "    def GetTempToken(self):\n",
    "        cursor = self.con.cursor()\n",
    "        cursor.execute('Select SQL_NO_CACHE Token, tstamp from icicitemptoken ORDER BY ID DESC LIMIT 1;')\n",
    "        for row in cursor:\n",
    "            return row        "
   ]
  },
  {
   "cell_type": "code",
   "execution_count": null,
   "id": "69835c0d",
   "metadata": {},
   "outputs": [],
   "source": [
    "# login details we got from API\n",
    "api_key = \"G7N34266890R6384pO940#Y4@72BU42y\"\n",
    "apisecret = \"l~1W2017054M253KVj8L4563#7%03*F7\"\n",
    "db = DBBasic()"
   ]
  },
  {
   "cell_type": "code",
   "execution_count": null,
   "id": "fda64a3c",
   "metadata": {},
   "outputs": [],
   "source": [
    "breeze = BreezeConnect(api_key=api_key)"
   ]
  },
  {
   "cell_type": "code",
   "execution_count": null,
   "id": "eb39cb16",
   "metadata": {},
   "outputs": [],
   "source": [
    "def InitiateICICI():\n",
    "    tempToken = db.GetTempToken()\n",
    "    if tempToken is None:\n",
    "        print('tempToken is None:')\n",
    "        print('Login to API and rerun the program')\n",
    "        return False\n",
    "    ttoken = tempToken[0]\n",
    "    print('ttoken:', ttoken)\n",
    "    try:\n",
    "        breeze.generate_session(api_secret=apisecret, session_token=ttoken)\n",
    "        print('Ready to trade')\n",
    "        return True\n",
    "    except Exception as e:\n",
    "        print(e)\n",
    "        return False"
   ]
  },
  {
   "cell_type": "code",
   "execution_count": null,
   "id": "6d123d6c",
   "metadata": {},
   "outputs": [],
   "source": [
    "status = InitiateICICI()\n",
    "#breeze.ws_connect()"
   ]
  },
  {
   "cell_type": "code",
   "execution_count": null,
   "id": "959e3d1c",
   "metadata": {},
   "outputs": [],
   "source": [
    "def get_historical_data(adate):\n",
    "    data = breeze.get_historical_data(interval=\"1minute\", from_date= adate + \"T09:15:00.000Z\",\n",
    "                            to_date= adate + \"T15:30:00.000Z\", stock_code=\"NIFTY\", exchange_code=\"NSE\", product_type=\"cash\")\n",
    "    put_data = pd.DataFrame(data[\"Success\"])\n",
    "    df = put_data[['datetime', 'open', 'high', 'low', 'close']]\n",
    "    df['datetime']= pd.to_datetime(df['datetime'])\n",
    "    df = df.loc[df['datetime'].dt.time > time(9,14,0)]\n",
    "    df = df.loc[df['datetime'].dt.time < time(15,31,0)]\n",
    "    if len(df) == 0:\n",
    "        print('Data not found2:', adate)\n",
    "        return\n",
    "    return df\n"
   ]
  },
  {
   "cell_type": "code",
   "execution_count": null,
   "id": "7255cf89",
   "metadata": {},
   "outputs": [],
   "source": [
    "get_historical_data('2022-01-03').head()"
   ]
  },
  {
   "cell_type": "code",
   "execution_count": null,
   "id": "287c34ac",
   "metadata": {},
   "outputs": [],
   "source": []
  }
 ],
 "metadata": {
  "kernelspec": {
   "display_name": "Python 3 (ipykernel)",
   "language": "python",
   "name": "python3"
  },
  "language_info": {
   "codemirror_mode": {
    "name": "ipython",
    "version": 3
   },
   "file_extension": ".py",
   "mimetype": "text/x-python",
   "name": "python",
   "nbconvert_exporter": "python",
   "pygments_lexer": "ipython3",
   "version": "3.9.12"
  }
 },
 "nbformat": 4,
 "nbformat_minor": 5
}
