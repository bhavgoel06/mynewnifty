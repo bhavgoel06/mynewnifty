{
 "cells": [
  {
   "cell_type": "markdown",
   "id": "355ab718-89d0-416c-b94e-a9159c120b60",
   "metadata": {},
   "source": [
    "# Iterative Backtesting - Part 2 - Accessing Data"
   ]
  },
  {
   "cell_type": "code",
   "execution_count": null,
   "id": "ac35c7fa-0030-422d-b835-2e94c141e561",
   "metadata": {},
   "outputs": [],
   "source": [
    "import pandas as pd\n",
    "import datetime\n",
    "from datetime import timedelta\n",
    "import numpy as np"
   ]
  },
  {
   "cell_type": "code",
   "execution_count": null,
   "id": "a432ea36-e825-451c-a25f-6ed82b7ef789",
   "metadata": {},
   "outputs": [],
   "source": [
    "class Backtester():\n",
    "    def __init__(self, ticker, ema_short_period, ema_long_period, amount):\n",
    "        self.symbol = ticker\n",
    "        self.ema_s = ema_short_period\n",
    "        self.ema_l = ema_long_period\n",
    "        self.result = None\n",
    "        self.trades = 0\n",
    "        self.units = 0\n",
    "        self.logs = pd.DataFrame()\n",
    "        self.data = pd.DataFrame()\n",
    "        self.position = 0\n",
    "        self.initial_balance = amount\n",
    "        self.current_balance = amount\n",
    "        \n",
    "    def set_params(ema_short_period, ema_long_period):\n",
    "        self.ema_s = ema_short_period\n",
    "        self.ema_l = ema_long_period\n",
    "\n",
    "    def fetch_data(self):\n",
    "        # API, Database, csv file\n",
    "        data = pd.read_csv('eurusd.csv')\n",
    "        data['date'] = pd.to_datetime(data['date'])\n",
    "        data.set_index('date', drop=True, inplace=True)\n",
    "        data['return'] = np.log(data.close/data.close.shift(1))\n",
    "        data['ema_short'] = data['close'].ewm(span=self.ema_s, adjust=False).mean()\n",
    "        data['ema_long'] = data['close'].ewm(span=self.ema_l, adjust=False).mean()\n",
    "        self.data = data\n",
    "\n",
    "    def access_data(self, bar):\n",
    "        date_value = self.data.index[bar].date()\n",
    "        price = float(self.data['close'].iloc[bar])\n",
    "        ema_short = float(self.data['ema_short'].iloc[bar])\n",
    "        ema_long = float(self.data['ema_long'].iloc[bar])\n",
    "        return date_value, price, ema_short, ema_long\n",
    "        \n",
    "    def plot_price(self):\n",
    "        self.data[['close', 'ema_short', 'ema_long']].plot(figsize=(14, 7))\n",
    "        \n",
    "    def plot_return(self):\n",
    "        self.data['return'].plot(figsize=(14, 7))"
   ]
  },
  {
   "cell_type": "code",
   "execution_count": null,
   "id": "addf563b-3ca6-4a00-8d44-e4c4162e2d64",
   "metadata": {},
   "outputs": [],
   "source": [
    "obj = Backtester(ticker = 'NIFTY', ema_short_period = 50, ema_long_period = 200, amount = 70000)"
   ]
  },
  {
   "cell_type": "code",
   "execution_count": null,
   "id": "05777165-f5e9-490e-870f-632dbc6e975a",
   "metadata": {},
   "outputs": [],
   "source": [
    "obj.symbol, obj.ema_s, obj.ema_l, obj.trades"
   ]
  },
  {
   "cell_type": "code",
   "execution_count": null,
   "id": "5f359793-88ff-45a6-ad4e-20e20c3affb0",
   "metadata": {},
   "outputs": [],
   "source": [
    "obj.fetch_data()"
   ]
  },
  {
   "cell_type": "code",
   "execution_count": null,
   "id": "d1a58825-3af7-42e3-a55f-8739207854eb",
   "metadata": {},
   "outputs": [],
   "source": [
    "obj.data"
   ]
  },
  {
   "cell_type": "code",
   "execution_count": null,
   "id": "3c988484-61d3-4893-9a09-b2daf016a95d",
   "metadata": {},
   "outputs": [],
   "source": [
    "obj.plot_price()"
   ]
  },
  {
   "cell_type": "code",
   "execution_count": null,
   "id": "0b1e7211-c746-4bb3-b205-72e18ca36b52",
   "metadata": {},
   "outputs": [],
   "source": [
    "obj.plot_return()"
   ]
  },
  {
   "cell_type": "code",
   "execution_count": null,
   "id": "57e0f9ca-b521-4575-b9b5-9a7f8fd52151",
   "metadata": {},
   "outputs": [],
   "source": []
  }
 ],
 "metadata": {
  "kernelspec": {
   "display_name": "Python [conda env:base] *",
   "language": "python",
   "name": "conda-base-py"
  },
  "language_info": {
   "codemirror_mode": {
    "name": "ipython",
    "version": 3
   },
   "file_extension": ".py",
   "mimetype": "text/x-python",
   "name": "python",
   "nbconvert_exporter": "python",
   "pygments_lexer": "ipython3",
   "version": "3.12.7"
  }
 },
 "nbformat": 4,
 "nbformat_minor": 5
}
