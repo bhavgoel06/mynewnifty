{
 "cells": [
  {
   "cell_type": "code",
   "execution_count": null,
   "id": "c48128ae",
   "metadata": {},
   "outputs": [],
   "source": [
    "import pandas as pd"
   ]
  },
  {
   "cell_type": "code",
   "execution_count": null,
   "id": "58a6c3cd",
   "metadata": {},
   "outputs": [],
   "source": [
    "df = pd.read_csv('minute.csv')\n",
    "df.head()"
   ]
  },
  {
   "cell_type": "code",
   "execution_count": null,
   "id": "669f62b3",
   "metadata": {},
   "outputs": [],
   "source": [
    "df.info()"
   ]
  },
  {
   "cell_type": "code",
   "execution_count": null,
   "id": "02901f08",
   "metadata": {},
   "outputs": [],
   "source": [
    "df['datetime'] = pd.to_datetime(df['datetime'])\n",
    "df.datetime.info()"
   ]
  },
  {
   "cell_type": "code",
   "execution_count": null,
   "id": "00cc86b9",
   "metadata": {},
   "outputs": [],
   "source": [
    "df.datetime[0]"
   ]
  },
  {
   "cell_type": "code",
   "execution_count": null,
   "id": "c7100dab",
   "metadata": {},
   "outputs": [],
   "source": [
    "df.set_index('datetime', drop=True, inplace=True)\n",
    "df.head()"
   ]
  },
  {
   "cell_type": "code",
   "execution_count": null,
   "id": "841b4586",
   "metadata": {},
   "outputs": [],
   "source": [
    "pd.to_datetime('2023-11-09')"
   ]
  },
  {
   "cell_type": "code",
   "execution_count": null,
   "id": "8e182517",
   "metadata": {},
   "outputs": [],
   "source": [
    "pd.to_datetime('2023/11/09')"
   ]
  },
  {
   "cell_type": "code",
   "execution_count": null,
   "id": "57571839",
   "metadata": {},
   "outputs": [],
   "source": [
    "pd.to_datetime('20231109')"
   ]
  },
  {
   "cell_type": "code",
   "execution_count": null,
   "id": "987be869",
   "metadata": {},
   "outputs": [],
   "source": [
    "pd.to_datetime('2023 11 09')"
   ]
  },
  {
   "cell_type": "code",
   "execution_count": null,
   "id": "588ff7bc",
   "metadata": {},
   "outputs": [],
   "source": [
    "pd.to_datetime('2023-09-09 09:15:00')"
   ]
  },
  {
   "cell_type": "code",
   "execution_count": null,
   "id": "5d478861",
   "metadata": {},
   "outputs": [],
   "source": [
    "pd.to_datetime('2023-13-09')"
   ]
  },
  {
   "cell_type": "code",
   "execution_count": null,
   "id": "3561a812",
   "metadata": {},
   "outputs": [],
   "source": [
    "pd.to_datetime('2023-nov-09')"
   ]
  },
  {
   "cell_type": "code",
   "execution_count": null,
   "id": "9c270a56",
   "metadata": {},
   "outputs": [],
   "source": [
    "pd.to_datetime('Nov 2023 09')"
   ]
  },
  {
   "cell_type": "code",
   "execution_count": null,
   "id": "8be14b8f",
   "metadata": {},
   "outputs": [],
   "source": [
    "pd.to_datetime('09 Nov 2023')"
   ]
  },
  {
   "cell_type": "code",
   "execution_count": null,
   "id": "87ba1349",
   "metadata": {},
   "outputs": [],
   "source": [
    "pd.to_datetime('2023-09-09', format = \"%Y-%m-%d\")"
   ]
  },
  {
   "cell_type": "code",
   "execution_count": null,
   "id": "cc96ce7c",
   "metadata": {},
   "outputs": [],
   "source": [
    "pd.to_datetime('23-09-09', format = \"%y-%m-%d\")"
   ]
  },
  {
   "cell_type": "code",
   "execution_count": null,
   "id": "e14c4641",
   "metadata": {},
   "outputs": [],
   "source": [
    "pd.to_datetime('23-09-09', dayfirst=True)"
   ]
  },
  {
   "cell_type": "code",
   "execution_count": null,
   "id": "a5dbdd6e",
   "metadata": {},
   "outputs": [],
   "source": [
    "pd.to_datetime('23-09-09', yearfirst=True)"
   ]
  },
  {
   "cell_type": "code",
   "execution_count": null,
   "id": "4a259a6f",
   "metadata": {},
   "outputs": [],
   "source": [
    "pd.to_datetime(['2023 11 09', 'Nov 2023 10', '2023-11-11'])"
   ]
  },
  {
   "cell_type": "code",
   "execution_count": null,
   "id": "5965b1ed",
   "metadata": {},
   "outputs": [],
   "source": [
    "pd.to_datetime(['2023 11 09', 'Nov 2023 10', 'New Delhi'], errors='coerce')"
   ]
  },
  {
   "cell_type": "code",
   "execution_count": null,
   "id": "0eee3261",
   "metadata": {},
   "outputs": [],
   "source": []
  }
 ],
 "metadata": {
  "kernelspec": {
   "display_name": "Python 3 (ipykernel)",
   "language": "python",
   "name": "python3"
  },
  "language_info": {
   "codemirror_mode": {
    "name": "ipython",
    "version": 3
   },
   "file_extension": ".py",
   "mimetype": "text/x-python",
   "name": "python",
   "nbconvert_exporter": "python",
   "pygments_lexer": "ipython3",
   "version": "3.9.13"
  }
 },
 "nbformat": 4,
 "nbformat_minor": 5
}
