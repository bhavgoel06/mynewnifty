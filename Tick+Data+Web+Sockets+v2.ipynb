{
 "cells": [
  {
   "cell_type": "markdown",
   "id": "286fb6a5",
   "metadata": {},
   "source": [
    "# Download Tick Data using Web Sockets"
   ]
  },
  {
   "cell_type": "code",
   "execution_count": 1,
   "id": "7b146019",
   "metadata": {},
   "outputs": [],
   "source": [
    "import pandas as pd\n",
    "import mysql.connector as sqlConnector\n",
    "from breeze_connect import BreezeConnect\n",
    "from datetime import date\n",
    "from selenium import webdriver\n",
    "from pyotp import TOTP\n",
    "import urllib\n",
    "import time\n",
    "import warnings\n",
    "warnings.filterwarnings('ignore')"
   ]
  },
  {
   "cell_type": "code",
   "execution_count": 2,
   "id": "02ad85a4-8ca4-44a4-b30f-de2555650542",
   "metadata": {},
   "outputs": [],
   "source": [
    "breeze = BreezeConnect(api_key=\"************\")\n",
    "breeze.generate_session(api_secret=\"***********\",session_token=************)"
   ]
  },
  {
   "cell_type": "code",
   "execution_count": 3,
   "id": "99fc41e6",
   "metadata": {},
   "outputs": [],
   "source": [
    "breeze.ws_connect()\n",
    "global data"
   ]
  },
  {
   "cell_type": "markdown",
   "id": "7cde9739",
   "metadata": {},
   "source": [
    "Either get_exchange_quotes must be True or get_market_depth must be True.\n",
    "\n",
    "Both get_exchange_quotes and get_market_depth can be True, But both must not be False."
   ]
  },
  {
   "cell_type": "code",
   "execution_count": 4,
   "id": "deff3ae1-69ec-4950-95ee-72cb8602fadd",
   "metadata": {},
   "outputs": [],
   "source": [
    "def insert_tick(symbol,last):\n",
    "    con=sqlConnector.connect(host=\"127.0.0.1\",user='root',passwd=\"root\",database=\"algo\",port=\"3306\",auth_plugin='mysql_native_password')\n",
    "    query = \"INSERT INTO tick_data (symbol, last) VALUES (%s, %s)\"\n",
    "    cur = con.cursor()\n",
    "    cur.execute(query, (symbol, last))\n",
    "    con.commit()\n",
    "    con.close()"
   ]
  },
  {
   "cell_type": "code",
   "execution_count": 5,
   "id": "fa81bfa7",
   "metadata": {
    "scrolled": true
   },
   "outputs": [
    {
     "data": {
      "text/plain": [
       "{'message': 'Stock TCS subscribed successfully'}"
      ]
     },
     "execution_count": 5,
     "metadata": {},
     "output_type": "execute_result"
    },
    {
     "name": "stdout",
     "output_type": "stream",
     "text": [
      "symbol='4.1!11536', last=4387.8\n",
      "symbol='4.1!11536', last=4387.8\n",
      "symbol='4.1!11536', last=4387.8\n",
      "symbol='4.1!11536', last=4387.8\n",
      "symbol='4.1!11536', last=4387.8\n",
      "symbol='4.1!11536', last=4387.75\n"
     ]
    }
   ],
   "source": [
    "def on_ticks(ticks):\n",
    "    global data\n",
    "    data = ticks\n",
    "    # The structure of dictionary may vary depending on type of data you are subscribing\n",
    "    symbol = ticks['symbol']\n",
    "    if 'last' in ticks:\n",
    "        last = ticks['last']\n",
    "        # Save tick data to database\n",
    "        insert_tick(symbol, last)\n",
    "        print(f\"{symbol=}, {last=}\")\n",
    "    \n",
    "breeze.on_ticks = on_ticks\n",
    "#breeze.subscribe_feeds(exchange_code=\"NFO\", stock_code=\"TCS\", product_type=\"options\", expiry_date=\"29-Mar-2023\", strike_price=\"3200\", right=\"Call\", get_exchange_quotes=True, get_market_depth=False)\n",
    "breeze.subscribe_feeds(exchange_code=\"NSE\", stock_code=\"TCS\", get_exchange_quotes=True, get_market_depth=False)\n",
    "#breeze.subscribe_feeds(stock_token=\"37517\")"
   ]
  },
  {
   "cell_type": "code",
   "execution_count": 6,
   "id": "e8edc088",
   "metadata": {},
   "outputs": [
    {
     "data": {
      "text/plain": [
       "[{'message': 'socket server for rate refresh  has been disconnected.'},\n",
       " {'message': 'socket server is not connected to OHLCV Stream.'},\n",
       " {'message': 'socket server is not connected to order refresh.'}]"
      ]
     },
     "execution_count": 6,
     "metadata": {},
     "output_type": "execute_result"
    }
   ],
   "source": [
    "breeze.unsubscribe_feeds(stock_token=\"4.1!11536\")\n",
    "breeze.ws_disconnect()"
   ]
  },
  {
   "cell_type": "code",
   "execution_count": null,
   "id": "1690d6ad",
   "metadata": {},
   "outputs": [],
   "source": [
    "data['depth'][1]"
   ]
  },
  {
   "cell_type": "markdown",
   "id": "7d08a02a",
   "metadata": {},
   "source": [
    "Subscribe NFO Feeds"
   ]
  },
  {
   "cell_type": "code",
   "execution_count": null,
   "id": "066f6db5",
   "metadata": {},
   "outputs": [],
   "source": [
    "breeze.subscribe_feeds(exchange_code=\"NFO\", stock_code=\"TCS\", product_type=\"options\", expiry_date=\"29-Mar-2023\", strike_price=\"3200\", right=\"Call\", get_exchange_quotes=True, get_market_depth=False)\n"
   ]
  },
  {
   "cell_type": "markdown",
   "id": "4220e40f",
   "metadata": {},
   "source": [
    "Order Notification feeds"
   ]
  },
  {
   "cell_type": "code",
   "execution_count": null,
   "id": "a7f9ad90",
   "metadata": {},
   "outputs": [],
   "source": [
    "breeze.ws_disconnect()"
   ]
  },
  {
   "cell_type": "markdown",
   "id": "cdbb69f2",
   "metadata": {},
   "source": [
    "Examples for stock_token are \"4.1!38071\" or \"1.1!500780\".\n",
    "\n",
    "Template for stock_token : X.Y!<token> X : exchange code Y : Market Level data Token : ISEC stock code\n",
    "\n",
    "Value of X can be : 1 for BSE, 4 for NSE, 13 for NDX, 6 for MCX, 4 for NFO,\n",
    "\n",
    "Value of Y can be : 1 for Level 1 data, 4 for Level 2 data"
   ]
  },
  {
   "cell_type": "code",
   "execution_count": null,
   "id": "6e2fa156",
   "metadata": {},
   "outputs": [],
   "source": [
    "scrip = pd.read_csv(\"FONSEScripMaster.txt\")\n",
    "scrip = scrip[['Token', 'InstrumentName', 'ShortName', 'Series','ExpiryDate', 'StrikePrice']]\n",
    "scrip = scrip[scrip.ShortName == 'NIFTY']\n",
    "scrip = scrip[scrip.Series == 'FUTURE']\n",
    "scrip.head()"
   ]
  },
  {
   "cell_type": "code",
   "execution_count": null,
   "id": "959e3d1c",
   "metadata": {},
   "outputs": [],
   "source": [
    "breeze.get_names(exchange_code = 'NSE',stock_code = 'TCS')"
   ]
  },
  {
   "cell_type": "code",
   "execution_count": null,
   "id": "513f9403",
   "metadata": {},
   "outputs": [],
   "source": [
    "breeze.preview_order(\n",
    "    stock_code = \"ICIBAN\",\n",
    "    exchange_code = \"NSE\",\n",
    "    product = \"margin\",\n",
    "    order_type = \"limit\",\n",
    "    price = \"907.05\",\n",
    "    action = \"buy\",\n",
    "    quantity = \"1\",\n",
    "    specialflag = \"N\"\n",
    ")"
   ]
  },
  {
   "cell_type": "code",
   "execution_count": null,
   "id": "618fb871",
   "metadata": {},
   "outputs": [],
   "source": []
  }
 ],
 "metadata": {
  "kernelspec": {
   "display_name": "Python 3 (ipykernel)",
   "language": "python",
   "name": "python3"
  },
  "language_info": {
   "codemirror_mode": {
    "name": "ipython",
    "version": 3
   },
   "file_extension": ".py",
   "mimetype": "text/x-python",
   "name": "python",
   "nbconvert_exporter": "python",
   "pygments_lexer": "ipython3",
   "version": "3.12.4"
  }
 },
 "nbformat": 4,
 "nbformat_minor": 5
}
