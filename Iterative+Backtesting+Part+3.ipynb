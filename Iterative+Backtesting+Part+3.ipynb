{
 "cells": [
  {
   "cell_type": "markdown",
   "id": "355ab718-89d0-416c-b94e-a9159c120b60",
   "metadata": {},
   "source": [
    "# Iterative Backtesting - Part 3 - Buy/Sell"
   ]
  },
  {
   "cell_type": "code",
   "execution_count": null,
   "id": "ac35c7fa-0030-422d-b835-2e94c141e561",
   "metadata": {},
   "outputs": [],
   "source": [
    "import pandas as pd\n",
    "import datetime\n",
    "from datetime import timedelta\n",
    "import numpy as np"
   ]
  },
  {
   "cell_type": "code",
   "execution_count": null,
   "id": "a432ea36-e825-451c-a25f-6ed82b7ef789",
   "metadata": {},
   "outputs": [],
   "source": [
    "class Backtester():\n",
    "    def __init__(self, ticker, ema_short_period, ema_long_period, amount):\n",
    "        self.symbol = ticker\n",
    "        self.ema_s = ema_short_period\n",
    "        self.ema_l = ema_long_period\n",
    "        self.result = None\n",
    "        self.trades = 0\n",
    "        self.units = 0\n",
    "        self.logs = pd.DataFrame()\n",
    "        self.data = pd.DataFrame()\n",
    "        self.position = 0\n",
    "        self.initial_balance = amount\n",
    "        self.current_balance = amount\n",
    "        \n",
    "    def fetch_data(self):\n",
    "        # API, Database, csv file\n",
    "        data = pd.read_csv('eurusd.csv')\n",
    "        data['date'] = pd.to_datetime(data['date'])\n",
    "        data.set_index('date', drop=True, inplace=True)\n",
    "        data['return'] = np.log(data.close/data.close.shift(1))\n",
    "        data['ema_short'] = data['close'].ewm(span=self.ema_s, adjust=False).mean()\n",
    "        data['ema_long'] = data['close'].ewm(span=self.ema_l, adjust=False).mean()\n",
    "        self.data = data\n",
    "\n",
    "    def access_data(self, bar):\n",
    "        date_value = self.data.index[bar].date()\n",
    "        price = float(self.data['close'].iloc[bar])\n",
    "        ema_short = float(self.data['ema_short'].iloc[bar])\n",
    "        ema_long = float(self.data['ema_long'].iloc[bar])\n",
    "        return date_value, price, ema_short, ema_long\n",
    "        \n",
    "    def buy_instrument(self, bar, qty):\n",
    "        date_value, price, ema_short, ema_long = self.access_data(bar)\n",
    "        self.units = self.units + qty\n",
    "        self.current_balance = self.current_balance - (price * qty)\n",
    "        self.trades = self.trades + 1\n",
    "        print(f\"{date_value} | BUY {qty} @ $: {round(price, 2) }\")\n",
    "    def sell_instrument(self, bar, qty):\n",
    "        date_value, price, ema_short, ema_long = self.access_data(bar)\n",
    "        self.units = self.units - qty\n",
    "        self.current_balance = self.current_balance + (price * qty)\n",
    "        self.trades = self.trades + 1        \n",
    "        print(f\"{date_value} | SELL {qty} @ $: {round(price, 2) }\")\n",
    "\n",
    "    def get_balance(self):\n",
    "        return self.current_balance\n",
    "        \n",
    "    def get_current_position(self, bar):\n",
    "        date_value, price, ema_short, ema_long = self.access_data(bar)\n",
    "        current_position = self.units * price\n",
    "        print(f\" Current Position Value: {current_position}\")\n",
    "\n",
    "    def get_current_NAV(self, bar):\n",
    "        date_value, price, ema_short, ema_long = self.access_data(bar)\n",
    "        current_position = self.units * price\n",
    "        current_NAV = self.current_balance + current_position\n",
    "        print(f\" Current NAV: {current_NAV}\")"
   ]
  },
  {
   "cell_type": "code",
   "execution_count": null,
   "id": "addf563b-3ca6-4a00-8d44-e4c4162e2d64",
   "metadata": {},
   "outputs": [],
   "source": [
    "obj = Backtester(ticker = 'NIFTY', ema_short_period = 50, ema_long_period = 200, amount = 70000)\n",
    "obj.fetch_data()"
   ]
  },
  {
   "cell_type": "code",
   "execution_count": null,
   "id": "ddbad3f6-6db9-42da-8b5e-7e07a725d66e",
   "metadata": {},
   "outputs": [],
   "source": [
    "bar = 0 # 50, -1\n",
    "obj.access_data(bar)"
   ]
  },
  {
   "cell_type": "code",
   "execution_count": null,
   "id": "a87b4693-224f-4089-90a8-3b416baab3b3",
   "metadata": {},
   "outputs": [],
   "source": [
    "obj.get_balance()"
   ]
  },
  {
   "cell_type": "code",
   "execution_count": null,
   "id": "5ce12943-ae61-4e92-b032-4c9d22ebb7cb",
   "metadata": {},
   "outputs": [],
   "source": [
    "obj.buy_instrument(bar = 5, qty = 10)"
   ]
  },
  {
   "cell_type": "code",
   "execution_count": null,
   "id": "af7a536a-3c7c-467d-80fa-4b24bd99e4ec",
   "metadata": {},
   "outputs": [],
   "source": [
    "obj.get_current_NAV(6)"
   ]
  },
  {
   "cell_type": "code",
   "execution_count": null,
   "id": "02926dda-be79-4aa3-bce9-1481d1cbef90",
   "metadata": {},
   "outputs": [],
   "source": [
    "obj.get_current_position(6)"
   ]
  },
  {
   "cell_type": "code",
   "execution_count": null,
   "id": "f9866386-c873-467d-b84f-2380a50deb57",
   "metadata": {},
   "outputs": [],
   "source": [
    "obj.units"
   ]
  },
  {
   "cell_type": "code",
   "execution_count": null,
   "id": "ea29257f-60e7-4f38-8d11-ba9de52e0295",
   "metadata": {},
   "outputs": [],
   "source": [
    "obj.sell_instrument(bar = 20, qty = 10)"
   ]
  },
  {
   "cell_type": "code",
   "execution_count": null,
   "id": "99db3c61-a2fe-4678-9129-5cee2f88bbc3",
   "metadata": {},
   "outputs": [],
   "source": [
    "obj.get_current_NAV(20)"
   ]
  },
  {
   "cell_type": "code",
   "execution_count": null,
   "id": "57e0f9ca-b521-4575-b9b5-9a7f8fd52151",
   "metadata": {},
   "outputs": [],
   "source": []
  }
 ],
 "metadata": {
  "kernelspec": {
   "display_name": "Python [conda env:base] *",
   "language": "python",
   "name": "conda-base-py"
  },
  "language_info": {
   "codemirror_mode": {
    "name": "ipython",
    "version": 3
   },
   "file_extension": ".py",
   "mimetype": "text/x-python",
   "name": "python",
   "nbconvert_exporter": "python",
   "pygments_lexer": "ipython3",
   "version": "3.12.7"
  }
 },
 "nbformat": 4,
 "nbformat_minor": 5
}
