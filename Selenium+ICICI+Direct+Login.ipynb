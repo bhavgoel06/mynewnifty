{
 "cells": [
  {
   "cell_type": "markdown",
   "id": "8280c169",
   "metadata": {},
   "source": [
    "# Autologin to ICICI Direct API using Selenium"
   ]
  },
  {
   "cell_type": "code",
   "execution_count": null,
   "id": "daecaae2",
   "metadata": {},
   "outputs": [],
   "source": [
    "!pip install -U selenium"
   ]
  },
  {
   "cell_type": "code",
   "execution_count": 1,
   "id": "e8412331",
   "metadata": {},
   "outputs": [],
   "source": [
    "from selenium import webdriver\n",
    "import pandas as pd\n",
    "from breeze_connect import BreezeConnect\n",
    "import time\n",
    "import os\n",
    "from pyotp import TOTP\n",
    "import urllib"
   ]
  },
  {
   "cell_type": "markdown",
   "id": "32700aed",
   "metadata": {},
   "source": [
    "api_key = \"ie3wytccnxhinew3\" <font color='gray'>- Create App screen ICICI Direct API home page</font><br>\n",
    "key_secret = \"j38hb91ifln6gygbzaw2evlcof8dfor\" <font color='gray'> - Create App screen </font><br>\n",
    "userID = \"XY6867\" <font color='gray'>- Your UserID</font><br>\n",
    "pwd = \"pass@1234\" <font color='gray'>- Your ICICI Direct password</font><br>\n",
    "totp_key = \"GRSCPUZ5CYJAGBLZ5HSS72WNGZAZP\" <font color='gray'>ICICI Direct Trading Account ->Settings -> Enable Login Authenticator</font><br>\n",
    "\n",
    "Create security.txt file in the same directory with Login Info"
   ]
  },
  {
   "cell_type": "code",
   "execution_count": 2,
   "id": "54db02b4",
   "metadata": {},
   "outputs": [
    {
     "name": "stdout",
     "output_type": "stream",
     "text": [
      "SATSIN47\n"
     ]
    }
   ],
   "source": [
    "file = open(\"security.txt\", \"r\")\n",
    "keys = file.read().split()  # Get a List of keys\n",
    "print(keys[2])"
   ]
  },
  {
   "cell_type": "code",
   "execution_count": 3,
   "id": "57a011d4",
   "metadata": {},
   "outputs": [],
   "source": [
    "api_key = keys[0]\n",
    "key_secret = keys[1]\n",
    "userID = keys[2]\n",
    "pwd = keys[3]\n",
    "totp_key = keys[4]"
   ]
  },
  {
   "cell_type": "code",
   "execution_count": 4,
   "id": "15ae7141",
   "metadata": {},
   "outputs": [],
   "source": [
    "breeze = BreezeConnect(api_key=api_key)"
   ]
  },
  {
   "cell_type": "code",
   "execution_count": 5,
   "id": "2352762d",
   "metadata": {},
   "outputs": [
    {
     "name": "stderr",
     "output_type": "stream",
     "text": [
      "The chromedriver version (119.0.6045.105) detected in PATH at /opt/homebrew/bin/chromedriver might not be compatible with the detected chrome version (121.0.6167.160); currently, chromedriver 121.0.6167.85 is recommended for chrome 121.*, so it is advised to delete the driver in PATH and retry\n"
     ]
    },
    {
     "ename": "SessionNotCreatedException",
     "evalue": "Message: session not created: This version of ChromeDriver only supports Chrome version 119\nCurrent browser version is 121.0.6167.160 with binary path /Applications/Google Chrome.app/Contents/MacOS/Google Chrome\nStacktrace:\n0   chromedriver                        0x0000000104a7e004 chromedriver + 4169732\n1   chromedriver                        0x0000000104a75ff8 chromedriver + 4136952\n2   chromedriver                        0x00000001046cb500 chromedriver + 292096\n3   chromedriver                        0x000000010470195c chromedriver + 514396\n4   chromedriver                        0x0000000104700b98 chromedriver + 510872\n5   chromedriver                        0x00000001046fc244 chromedriver + 492100\n6   chromedriver                        0x00000001046f95b8 chromedriver + 480696\n7   chromedriver                        0x000000010473b754 chromedriver + 751444\n8   chromedriver                        0x00000001047045e8 chromedriver + 525800\n9   chromedriver                        0x00000001047054b8 chromedriver + 529592\n10  chromedriver                        0x0000000104a44334 chromedriver + 3932980\n11  chromedriver                        0x0000000104a48970 chromedriver + 3950960\n12  chromedriver                        0x0000000104a2c774 chromedriver + 3835764\n13  chromedriver                        0x0000000104a49478 chromedriver + 3953784\n14  chromedriver                        0x0000000104a1eab4 chromedriver + 3779252\n15  chromedriver                        0x0000000104a65914 chromedriver + 4069652\n16  chromedriver                        0x0000000104a65a90 chromedriver + 4070032\n17  chromedriver                        0x0000000104a75c70 chromedriver + 4136048\n18  libsystem_pthread.dylib             0x00000001a834bfa8 _pthread_start + 148\n19  libsystem_pthread.dylib             0x00000001a8346da0 thread_start + 8\n",
     "output_type": "error",
     "traceback": [
      "\u001b[0;31m---------------------------------------------------------------------------\u001b[0m",
      "\u001b[0;31mSessionNotCreatedException\u001b[0m                Traceback (most recent call last)",
      "\u001b[0;32m/var/folders/sv/lqk08_090jj5sffd57rb2hxm0000gp/T/ipykernel_28196/1310222853.py\u001b[0m in \u001b[0;36m<module>\u001b[0;34m\u001b[0m\n\u001b[0;32m----> 1\u001b[0;31m \u001b[0mbrowser\u001b[0m \u001b[0;34m=\u001b[0m \u001b[0mwebdriver\u001b[0m\u001b[0;34m.\u001b[0m\u001b[0mChrome\u001b[0m\u001b[0;34m(\u001b[0m\u001b[0;34m)\u001b[0m\u001b[0;34m\u001b[0m\u001b[0;34m\u001b[0m\u001b[0m\n\u001b[0m\u001b[1;32m      2\u001b[0m \u001b[0mbrowser\u001b[0m\u001b[0;34m.\u001b[0m\u001b[0mget\u001b[0m\u001b[0;34m(\u001b[0m\u001b[0;34m\"https://api.icicidirect.com/apiuser/login?api_key=\"\u001b[0m\u001b[0;34m+\u001b[0m\u001b[0murllib\u001b[0m\u001b[0;34m.\u001b[0m\u001b[0mparse\u001b[0m\u001b[0;34m.\u001b[0m\u001b[0mquote_plus\u001b[0m\u001b[0;34m(\u001b[0m\u001b[0mapi_key\u001b[0m\u001b[0;34m)\u001b[0m\u001b[0;34m)\u001b[0m\u001b[0;34m\u001b[0m\u001b[0;34m\u001b[0m\u001b[0m\n\u001b[1;32m      3\u001b[0m \u001b[0mbrowser\u001b[0m\u001b[0;34m.\u001b[0m\u001b[0mimplicitly_wait\u001b[0m\u001b[0;34m(\u001b[0m\u001b[0;36m5\u001b[0m\u001b[0;34m)\u001b[0m\u001b[0;34m\u001b[0m\u001b[0;34m\u001b[0m\u001b[0m\n",
      "\u001b[0;32m~/opt/anaconda3/lib/python3.9/site-packages/selenium/webdriver/chrome/webdriver.py\u001b[0m in \u001b[0;36m__init__\u001b[0;34m(self, options, service, keep_alive)\u001b[0m\n\u001b[1;32m     43\u001b[0m         \u001b[0moptions\u001b[0m \u001b[0;34m=\u001b[0m \u001b[0moptions\u001b[0m \u001b[0;32mif\u001b[0m \u001b[0moptions\u001b[0m \u001b[0;32melse\u001b[0m \u001b[0mOptions\u001b[0m\u001b[0;34m(\u001b[0m\u001b[0;34m)\u001b[0m\u001b[0;34m\u001b[0m\u001b[0;34m\u001b[0m\u001b[0m\n\u001b[1;32m     44\u001b[0m \u001b[0;34m\u001b[0m\u001b[0m\n\u001b[0;32m---> 45\u001b[0;31m         super().__init__(\n\u001b[0m\u001b[1;32m     46\u001b[0m             \u001b[0mbrowser_name\u001b[0m\u001b[0;34m=\u001b[0m\u001b[0mDesiredCapabilities\u001b[0m\u001b[0;34m.\u001b[0m\u001b[0mCHROME\u001b[0m\u001b[0;34m[\u001b[0m\u001b[0;34m\"browserName\"\u001b[0m\u001b[0;34m]\u001b[0m\u001b[0;34m,\u001b[0m\u001b[0;34m\u001b[0m\u001b[0;34m\u001b[0m\u001b[0m\n\u001b[1;32m     47\u001b[0m             \u001b[0mvendor_prefix\u001b[0m\u001b[0;34m=\u001b[0m\u001b[0;34m\"goog\"\u001b[0m\u001b[0;34m,\u001b[0m\u001b[0;34m\u001b[0m\u001b[0;34m\u001b[0m\u001b[0m\n",
      "\u001b[0;32m~/opt/anaconda3/lib/python3.9/site-packages/selenium/webdriver/chromium/webdriver.py\u001b[0m in \u001b[0;36m__init__\u001b[0;34m(self, browser_name, vendor_prefix, options, service, keep_alive)\u001b[0m\n\u001b[1;32m     59\u001b[0m \u001b[0;34m\u001b[0m\u001b[0m\n\u001b[1;32m     60\u001b[0m         \u001b[0;32mtry\u001b[0m\u001b[0;34m:\u001b[0m\u001b[0;34m\u001b[0m\u001b[0;34m\u001b[0m\u001b[0m\n\u001b[0;32m---> 61\u001b[0;31m             \u001b[0msuper\u001b[0m\u001b[0;34m(\u001b[0m\u001b[0;34m)\u001b[0m\u001b[0;34m.\u001b[0m\u001b[0m__init__\u001b[0m\u001b[0;34m(\u001b[0m\u001b[0mcommand_executor\u001b[0m\u001b[0;34m=\u001b[0m\u001b[0mexecutor\u001b[0m\u001b[0;34m,\u001b[0m \u001b[0moptions\u001b[0m\u001b[0;34m=\u001b[0m\u001b[0moptions\u001b[0m\u001b[0;34m)\u001b[0m\u001b[0;34m\u001b[0m\u001b[0;34m\u001b[0m\u001b[0m\n\u001b[0m\u001b[1;32m     62\u001b[0m         \u001b[0;32mexcept\u001b[0m \u001b[0mException\u001b[0m\u001b[0;34m:\u001b[0m\u001b[0;34m\u001b[0m\u001b[0;34m\u001b[0m\u001b[0m\n\u001b[1;32m     63\u001b[0m             \u001b[0mself\u001b[0m\u001b[0;34m.\u001b[0m\u001b[0mquit\u001b[0m\u001b[0;34m(\u001b[0m\u001b[0;34m)\u001b[0m\u001b[0;34m\u001b[0m\u001b[0;34m\u001b[0m\u001b[0m\n",
      "\u001b[0;32m~/opt/anaconda3/lib/python3.9/site-packages/selenium/webdriver/remote/webdriver.py\u001b[0m in \u001b[0;36m__init__\u001b[0;34m(self, command_executor, keep_alive, file_detector, options)\u001b[0m\n\u001b[1;32m    206\u001b[0m         \u001b[0mself\u001b[0m\u001b[0;34m.\u001b[0m\u001b[0m_authenticator_id\u001b[0m \u001b[0;34m=\u001b[0m \u001b[0;32mNone\u001b[0m\u001b[0;34m\u001b[0m\u001b[0;34m\u001b[0m\u001b[0m\n\u001b[1;32m    207\u001b[0m         \u001b[0mself\u001b[0m\u001b[0;34m.\u001b[0m\u001b[0mstart_client\u001b[0m\u001b[0;34m(\u001b[0m\u001b[0;34m)\u001b[0m\u001b[0;34m\u001b[0m\u001b[0;34m\u001b[0m\u001b[0m\n\u001b[0;32m--> 208\u001b[0;31m         \u001b[0mself\u001b[0m\u001b[0;34m.\u001b[0m\u001b[0mstart_session\u001b[0m\u001b[0;34m(\u001b[0m\u001b[0mcapabilities\u001b[0m\u001b[0;34m)\u001b[0m\u001b[0;34m\u001b[0m\u001b[0;34m\u001b[0m\u001b[0m\n\u001b[0m\u001b[1;32m    209\u001b[0m \u001b[0;34m\u001b[0m\u001b[0m\n\u001b[1;32m    210\u001b[0m     \u001b[0;32mdef\u001b[0m \u001b[0m__repr__\u001b[0m\u001b[0;34m(\u001b[0m\u001b[0mself\u001b[0m\u001b[0;34m)\u001b[0m\u001b[0;34m:\u001b[0m\u001b[0;34m\u001b[0m\u001b[0;34m\u001b[0m\u001b[0m\n",
      "\u001b[0;32m~/opt/anaconda3/lib/python3.9/site-packages/selenium/webdriver/remote/webdriver.py\u001b[0m in \u001b[0;36mstart_session\u001b[0;34m(self, capabilities)\u001b[0m\n\u001b[1;32m    290\u001b[0m \u001b[0;34m\u001b[0m\u001b[0m\n\u001b[1;32m    291\u001b[0m         \u001b[0mcaps\u001b[0m \u001b[0;34m=\u001b[0m \u001b[0m_create_caps\u001b[0m\u001b[0;34m(\u001b[0m\u001b[0mcapabilities\u001b[0m\u001b[0;34m)\u001b[0m\u001b[0;34m\u001b[0m\u001b[0;34m\u001b[0m\u001b[0m\n\u001b[0;32m--> 292\u001b[0;31m         \u001b[0mresponse\u001b[0m \u001b[0;34m=\u001b[0m \u001b[0mself\u001b[0m\u001b[0;34m.\u001b[0m\u001b[0mexecute\u001b[0m\u001b[0;34m(\u001b[0m\u001b[0mCommand\u001b[0m\u001b[0;34m.\u001b[0m\u001b[0mNEW_SESSION\u001b[0m\u001b[0;34m,\u001b[0m \u001b[0mcaps\u001b[0m\u001b[0;34m)\u001b[0m\u001b[0;34m[\u001b[0m\u001b[0;34m\"value\"\u001b[0m\u001b[0;34m]\u001b[0m\u001b[0;34m\u001b[0m\u001b[0;34m\u001b[0m\u001b[0m\n\u001b[0m\u001b[1;32m    293\u001b[0m         \u001b[0mself\u001b[0m\u001b[0;34m.\u001b[0m\u001b[0msession_id\u001b[0m \u001b[0;34m=\u001b[0m \u001b[0mresponse\u001b[0m\u001b[0;34m.\u001b[0m\u001b[0mget\u001b[0m\u001b[0;34m(\u001b[0m\u001b[0;34m\"sessionId\"\u001b[0m\u001b[0;34m)\u001b[0m\u001b[0;34m\u001b[0m\u001b[0;34m\u001b[0m\u001b[0m\n\u001b[1;32m    294\u001b[0m         \u001b[0mself\u001b[0m\u001b[0;34m.\u001b[0m\u001b[0mcaps\u001b[0m \u001b[0;34m=\u001b[0m \u001b[0mresponse\u001b[0m\u001b[0;34m.\u001b[0m\u001b[0mget\u001b[0m\u001b[0;34m(\u001b[0m\u001b[0;34m\"capabilities\"\u001b[0m\u001b[0;34m)\u001b[0m\u001b[0;34m\u001b[0m\u001b[0;34m\u001b[0m\u001b[0m\n",
      "\u001b[0;32m~/opt/anaconda3/lib/python3.9/site-packages/selenium/webdriver/remote/webdriver.py\u001b[0m in \u001b[0;36mexecute\u001b[0;34m(self, driver_command, params)\u001b[0m\n\u001b[1;32m    345\u001b[0m         \u001b[0mresponse\u001b[0m \u001b[0;34m=\u001b[0m \u001b[0mself\u001b[0m\u001b[0;34m.\u001b[0m\u001b[0mcommand_executor\u001b[0m\u001b[0;34m.\u001b[0m\u001b[0mexecute\u001b[0m\u001b[0;34m(\u001b[0m\u001b[0mdriver_command\u001b[0m\u001b[0;34m,\u001b[0m \u001b[0mparams\u001b[0m\u001b[0;34m)\u001b[0m\u001b[0;34m\u001b[0m\u001b[0;34m\u001b[0m\u001b[0m\n\u001b[1;32m    346\u001b[0m         \u001b[0;32mif\u001b[0m \u001b[0mresponse\u001b[0m\u001b[0;34m:\u001b[0m\u001b[0;34m\u001b[0m\u001b[0;34m\u001b[0m\u001b[0m\n\u001b[0;32m--> 347\u001b[0;31m             \u001b[0mself\u001b[0m\u001b[0;34m.\u001b[0m\u001b[0merror_handler\u001b[0m\u001b[0;34m.\u001b[0m\u001b[0mcheck_response\u001b[0m\u001b[0;34m(\u001b[0m\u001b[0mresponse\u001b[0m\u001b[0;34m)\u001b[0m\u001b[0;34m\u001b[0m\u001b[0;34m\u001b[0m\u001b[0m\n\u001b[0m\u001b[1;32m    348\u001b[0m             \u001b[0mresponse\u001b[0m\u001b[0;34m[\u001b[0m\u001b[0;34m\"value\"\u001b[0m\u001b[0;34m]\u001b[0m \u001b[0;34m=\u001b[0m \u001b[0mself\u001b[0m\u001b[0;34m.\u001b[0m\u001b[0m_unwrap_value\u001b[0m\u001b[0;34m(\u001b[0m\u001b[0mresponse\u001b[0m\u001b[0;34m.\u001b[0m\u001b[0mget\u001b[0m\u001b[0;34m(\u001b[0m\u001b[0;34m\"value\"\u001b[0m\u001b[0;34m,\u001b[0m \u001b[0;32mNone\u001b[0m\u001b[0;34m)\u001b[0m\u001b[0;34m)\u001b[0m\u001b[0;34m\u001b[0m\u001b[0;34m\u001b[0m\u001b[0m\n\u001b[1;32m    349\u001b[0m             \u001b[0;32mreturn\u001b[0m \u001b[0mresponse\u001b[0m\u001b[0;34m\u001b[0m\u001b[0;34m\u001b[0m\u001b[0m\n",
      "\u001b[0;32m~/opt/anaconda3/lib/python3.9/site-packages/selenium/webdriver/remote/errorhandler.py\u001b[0m in \u001b[0;36mcheck_response\u001b[0;34m(self, response)\u001b[0m\n\u001b[1;32m    227\u001b[0m                 \u001b[0malert_text\u001b[0m \u001b[0;34m=\u001b[0m \u001b[0mvalue\u001b[0m\u001b[0;34m[\u001b[0m\u001b[0;34m\"alert\"\u001b[0m\u001b[0;34m]\u001b[0m\u001b[0;34m.\u001b[0m\u001b[0mget\u001b[0m\u001b[0;34m(\u001b[0m\u001b[0;34m\"text\"\u001b[0m\u001b[0;34m)\u001b[0m\u001b[0;34m\u001b[0m\u001b[0;34m\u001b[0m\u001b[0m\n\u001b[1;32m    228\u001b[0m             \u001b[0;32mraise\u001b[0m \u001b[0mexception_class\u001b[0m\u001b[0;34m(\u001b[0m\u001b[0mmessage\u001b[0m\u001b[0;34m,\u001b[0m \u001b[0mscreen\u001b[0m\u001b[0;34m,\u001b[0m \u001b[0mstacktrace\u001b[0m\u001b[0;34m,\u001b[0m \u001b[0malert_text\u001b[0m\u001b[0;34m)\u001b[0m  \u001b[0;31m# type: ignore[call-arg]  # mypy is not smart enough here\u001b[0m\u001b[0;34m\u001b[0m\u001b[0;34m\u001b[0m\u001b[0m\n\u001b[0;32m--> 229\u001b[0;31m         \u001b[0;32mraise\u001b[0m \u001b[0mexception_class\u001b[0m\u001b[0;34m(\u001b[0m\u001b[0mmessage\u001b[0m\u001b[0;34m,\u001b[0m \u001b[0mscreen\u001b[0m\u001b[0;34m,\u001b[0m \u001b[0mstacktrace\u001b[0m\u001b[0;34m)\u001b[0m\u001b[0;34m\u001b[0m\u001b[0;34m\u001b[0m\u001b[0m\n\u001b[0m",
      "\u001b[0;31mSessionNotCreatedException\u001b[0m: Message: session not created: This version of ChromeDriver only supports Chrome version 119\nCurrent browser version is 121.0.6167.160 with binary path /Applications/Google Chrome.app/Contents/MacOS/Google Chrome\nStacktrace:\n0   chromedriver                        0x0000000104a7e004 chromedriver + 4169732\n1   chromedriver                        0x0000000104a75ff8 chromedriver + 4136952\n2   chromedriver                        0x00000001046cb500 chromedriver + 292096\n3   chromedriver                        0x000000010470195c chromedriver + 514396\n4   chromedriver                        0x0000000104700b98 chromedriver + 510872\n5   chromedriver                        0x00000001046fc244 chromedriver + 492100\n6   chromedriver                        0x00000001046f95b8 chromedriver + 480696\n7   chromedriver                        0x000000010473b754 chromedriver + 751444\n8   chromedriver                        0x00000001047045e8 chromedriver + 525800\n9   chromedriver                        0x00000001047054b8 chromedriver + 529592\n10  chromedriver                        0x0000000104a44334 chromedriver + 3932980\n11  chromedriver                        0x0000000104a48970 chromedriver + 3950960\n12  chromedriver                        0x0000000104a2c774 chromedriver + 3835764\n13  chromedriver                        0x0000000104a49478 chromedriver + 3953784\n14  chromedriver                        0x0000000104a1eab4 chromedriver + 3779252\n15  chromedriver                        0x0000000104a65914 chromedriver + 4069652\n16  chromedriver                        0x0000000104a65a90 chromedriver + 4070032\n17  chromedriver                        0x0000000104a75c70 chromedriver + 4136048\n18  libsystem_pthread.dylib             0x00000001a834bfa8 _pthread_start + 148\n19  libsystem_pthread.dylib             0x00000001a8346da0 thread_start + 8\n"
     ]
    }
   ],
   "source": [
    "browser = webdriver.Chrome()\n",
    "browser.get(\"https://api.icicidirect.com/apiuser/login?api_key=\"+urllib.parse.quote_plus(api_key))\n",
    "browser.implicitly_wait(5)"
   ]
  },
  {
   "cell_type": "markdown",
   "id": "a555841f",
   "metadata": {},
   "source": [
    "<i> Provide username & password</i>"
   ]
  },
  {
   "cell_type": "code",
   "execution_count": null,
   "id": "0351a77e",
   "metadata": {},
   "outputs": [],
   "source": [
    "username = browser.find_element(\"xpath\", '/html/body/form/div[2]/div/div/div[1]/div[2]/div/div[1]/input')\n",
    "password = browser.find_element(\"xpath\", '/html/body/form/div[2]/div/div/div[1]/div[2]/div/div[3]/div/input') \n",
    "\n",
    "username.send_keys(userID)\n",
    "password.send_keys(pwd)\n",
    "\n",
    "#Checkbox\n",
    "browser.find_element(\"xpath\", '/html/body/form/div[2]/div/div/div[1]/div[2]/div/div[4]/div/input').click()\n",
    "# Click Login Button\n",
    "browser.find_element(\"xpath\", '/html/body/form/div[2]/div/div/div[1]/div[2]/div/div[5]/input[1]').click()\n",
    "time.sleep(2)"
   ]
  },
  {
   "cell_type": "markdown",
   "id": "10a20363",
   "metadata": {},
   "source": [
    "<i>Provide OTP programatically</i>"
   ]
  },
  {
   "cell_type": "code",
   "execution_count": null,
   "id": "06040040",
   "metadata": {},
   "outputs": [],
   "source": [
    "pin = browser.find_element(\"xpath\", '/html/body/form/div[2]/div/div/div[2]/div/div[2]/div[2]/div[3]/div/div[1]/input')\n",
    "totp = TOTP(totp_key)\n",
    "token = totp.now()\n",
    "pin.send_keys(token)"
   ]
  },
  {
   "cell_type": "markdown",
   "id": "cf0cdf45",
   "metadata": {},
   "source": [
    "<i>Click button and Get Token</i>"
   ]
  },
  {
   "cell_type": "code",
   "execution_count": null,
   "id": "bc24f90d",
   "metadata": {},
   "outputs": [],
   "source": [
    "browser.find_element(\"xpath\", '/html/body/form/div[2]/div/div/div[2]/div/div[2]/div[2]/div[4]/input[1]').click()\n",
    "time.sleep(2)\n",
    "temp_token=browser.current_url.split('apisession=')[1][:8]\n",
    "# Save in Database or text File\n",
    "print('temp_token', temp_token)"
   ]
  },
  {
   "cell_type": "markdown",
   "id": "69b038b4",
   "metadata": {},
   "source": [
    "<i>Generate Session</i>"
   ]
  },
  {
   "cell_type": "code",
   "execution_count": null,
   "id": "3dcf41d9",
   "metadata": {},
   "outputs": [],
   "source": [
    "breeze.generate_session(api_secret=key_secret,session_token=temp_token)"
   ]
  },
  {
   "cell_type": "markdown",
   "id": "0ecdffba",
   "metadata": {},
   "source": [
    "Test"
   ]
  },
  {
   "cell_type": "code",
   "execution_count": null,
   "id": "c9ac140f",
   "metadata": {},
   "outputs": [],
   "source": [
    "breeze.ws_connect()"
   ]
  },
  {
   "cell_type": "code",
   "execution_count": null,
   "id": "bfb243e1",
   "metadata": {},
   "outputs": [],
   "source": [
    "def download_icici(sdate, edate, symbol):\n",
    "    data = breeze.get_historical_data(interval=\"5minute\", from_date= sdate + \"T09:15:00.000Z\",\n",
    "                            to_date= edate + \"T15:30:00.000Z\", stock_code=symbol, exchange_code=\"NSE\", product_type=\"cash\")\n",
    "    put_data = pd.DataFrame(data[\"Success\"])\n",
    "    if put_data.empty:\n",
    "        print('Data not found:', adate)\n",
    "        df = pd.DataFrame()\n",
    "        return df\n",
    "    else:\n",
    "        df = put_data[['datetime', 'open', 'high', 'low', 'close']]\n",
    "        df.set_index('datetime', inplace=True)\n",
    "    return df"
   ]
  },
  {
   "cell_type": "code",
   "execution_count": null,
   "id": "6aedbaa2",
   "metadata": {},
   "outputs": [],
   "source": [
    "sdate = '2023-01-27'\n",
    "edate = '2023-01-30'\n",
    "df = download_icici(sdate, edate,'TCS')"
   ]
  },
  {
   "cell_type": "code",
   "execution_count": null,
   "id": "adc62c0e",
   "metadata": {},
   "outputs": [],
   "source": [
    "df"
   ]
  },
  {
   "cell_type": "code",
   "execution_count": null,
   "id": "9a61ccdf",
   "metadata": {},
   "outputs": [],
   "source": []
  }
 ],
 "metadata": {
  "kernelspec": {
   "display_name": "Python 3 (ipykernel)",
   "language": "python",
   "name": "python3"
  },
  "language_info": {
   "codemirror_mode": {
    "name": "ipython",
    "version": 3
   },
   "file_extension": ".py",
   "mimetype": "text/x-python",
   "name": "python",
   "nbconvert_exporter": "python",
   "pygments_lexer": "ipython3",
   "version": "3.9.13"
  }
 },
 "nbformat": 4,
 "nbformat_minor": 5
}
