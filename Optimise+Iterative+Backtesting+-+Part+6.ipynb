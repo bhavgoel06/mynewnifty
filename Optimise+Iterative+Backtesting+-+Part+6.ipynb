{
 "cells": [
  {
   "cell_type": "markdown",
   "id": "355ab718-89d0-416c-b94e-a9159c120b60",
   "metadata": {},
   "source": [
    "# Optimise Iterative Backtesting - Part 6"
   ]
  },
  {
   "cell_type": "code",
   "execution_count": null,
   "id": "ac35c7fa-0030-422d-b835-2e94c141e561",
   "metadata": {},
   "outputs": [],
   "source": [
    "import pandas as pd\n",
    "import datetime\n",
    "from datetime import timedelta\n",
    "import numpy as np\n",
    "from itertools import product\n",
    "from IPython.display import display, clear_output"
   ]
  },
  {
   "cell_type": "code",
   "execution_count": null,
   "id": "a432ea36-e825-451c-a25f-6ed82b7ef789",
   "metadata": {},
   "outputs": [],
   "source": [
    "class Backtester():\n",
    "    def __init__(self, ticker, ema_short_period, ema_long_period, amount):\n",
    "        self.symbol = ticker\n",
    "        self.ema_s = ema_short_period\n",
    "        self.ema_l = ema_long_period\n",
    "        self.result = None\n",
    "        self.trades = 0\n",
    "        self.units = 0\n",
    "        self.logs = pd.DataFrame()\n",
    "        self.data = pd.DataFrame()\n",
    "        self.position = 0\n",
    "        self.initial_balance = amount\n",
    "        self.current_balance = amount\n",
    "\n",
    "    def reset_variables(self):\n",
    "        self.result = None\n",
    "        self.trades = 0\n",
    "        self.units = 0\n",
    "        self.logs = pd.DataFrame()\n",
    "        self.data = pd.DataFrame()\n",
    "        self.position = 0\n",
    "        self.current_balance = self.initial_balance\n",
    "        \n",
    "    def set_params(self, ema_short_period, ema_long_period):\n",
    "        self.ema_s = ema_short_period\n",
    "        self.ema_l = ema_long_period\n",
    "        \n",
    "    def fetch_data(self):\n",
    "        # API, Database, csv file\n",
    "        data = pd.read_csv('eurusd.csv')\n",
    "        data['date'] = pd.to_datetime(data['date'])\n",
    "        data.set_index('date', drop=True, inplace=True)\n",
    "        data['return'] = np.log(data.close/data.close.shift(1))\n",
    "        data['ema_short'] = data['close'].ewm(span=self.ema_s, adjust=False).mean()\n",
    "        data['ema_long'] = data['close'].ewm(span=self.ema_l, adjust=False).mean()\n",
    "        self.data = data\n",
    "    def plot_price(self):\n",
    "        self.data[['close', 'ema_short', 'ema_long']].plot(figsize=(14, 7))\n",
    "\n",
    "    def access_data(self, bar):\n",
    "        date_value = self.data.index[bar].date()\n",
    "        price = float(self.data['close'].iloc[bar])\n",
    "        ema_short = float(self.data['ema_short'].iloc[bar])\n",
    "        ema_long = float(self.data['ema_long'].iloc[bar])\n",
    "        return date_value, price, ema_short, ema_long\n",
    "        \n",
    "    def plot_return(self):\n",
    "        self.data['return'].plot(figsize=(14, 7))\n",
    "\n",
    "    def get_balance(self):\n",
    "        return self.current_balance\n",
    "    def get_current_position(self, bar):\n",
    "        date_value, price, ema_short, ema_long = self.access_data(bar)\n",
    "        current_position = self.units * price\n",
    "        print(f\" Current Position Value: {current_position}\")\n",
    "\n",
    "    def get_current_NAV(self, bar):\n",
    "        date_value, price, ema_short, ema_long = self.access_data(bar)\n",
    "        current_position = self.units * price\n",
    "        current_NAV = self.current_balance + current_position\n",
    "        print(f\" Current NAV: {current_NAV}\")\n",
    "        \n",
    "    def buy_instrument(self, bar, qty):\n",
    "        date_value, price, ema_short, ema_long = self.access_data(bar)\n",
    "        self.units = self.units + qty\n",
    "        self.current_balance = self.current_balance - (price * qty)\n",
    "        self.trades = self.trades + 1\n",
    "        #print(f\"{date_value} | BUY {qty} @ $: {round(price, 2) }\")\n",
    "    def sell_instrument(self, bar, qty):\n",
    "        date_value, price, ema_short, ema_long = self.access_data(bar)\n",
    "        self.units = self.units - qty\n",
    "        self.current_balance = self.current_balance + (price * qty)\n",
    "        self.trades = self.trades + 1        \n",
    "        #print(f\"{date_value} | SELL {qty} @ $: {round(price, 2) }\")\n",
    "        \n",
    "    def close_positions(self, bar):\n",
    "        date_value, price, ema_short, ema_long = self.access_data(bar)\n",
    "        if self.position != 0:\n",
    "            #print(\"\\n\")\n",
    "            #print('$$$ - Closing positions Finally - $$$')\n",
    "            if self.position == 1:\n",
    "                self.sell_instrument(bar = bar, qty = abs(self.units))\n",
    "            elif self.position == -1:\n",
    "                self.buy_instrument(bar = bar, qty = abs(self.units))\n",
    "            self.position = 0\n",
    "        performance = ((self.current_balance - self.initial_balance) / self.initial_balance) * 100\n",
    "        # print(\"\\n\")\n",
    "        # print(\"------------------- Summary -----------------\")\n",
    "        # print(f\"Performance: {round(performance, 2)} %\")\n",
    "        # self.net_balance = self.get_balance()\n",
    "        # print(f\"Current Balance: {self.net_balance}\")\n",
    "        # print(f\"Number of Trades: {self.trades}\")\n",
    "        return round(performance, 2)\n",
    "        \n",
    "    def test_strategy_one(self, ema_short_period, ema_long_period):\n",
    "        self.set_params(ema_short_period, ema_long_period)\n",
    "        self.reset_variables()\n",
    "        self.fetch_data()\n",
    "        qty = 50000\n",
    "        for bar in range(len(self.data) -1):\n",
    "            close = self.data['close'].iloc[bar]\n",
    "            ema_s = self.data['ema_short'].iloc[bar]\n",
    "            ema_l = self.data['ema_long'].iloc[bar]\n",
    "            if ema_s > ema_l:\n",
    "                if self.position == 0:\n",
    "                    self.buy_instrument(bar = bar, qty = qty)\n",
    "                elif self.position == -1:\n",
    "                    self.buy_instrument(bar = bar, qty = qty * 2)\n",
    "\n",
    "                if self.position != 1:\n",
    "                    balance = self.get_balance()\n",
    "                    #print(f\"Current Balance: {balance}\")\n",
    "                    self.position = 1\n",
    "                    #print(f\"Current Units: {self.units}\")\n",
    "            elif ema_l > ema_s:\n",
    "                if self.position == 0:\n",
    "                    self.sell_instrument(bar = bar, qty = qty)\n",
    "                elif self.position == 1:\n",
    "                    self.sell_instrument(bar = bar, qty =  qty * 2)\n",
    "                    \n",
    "                if self.position != -1:\n",
    "                    balance = self.get_balance()\n",
    "                    #print(f\"Current Balance: {balance}\")\n",
    "                    self.position = -1\n",
    "                    #print(f\"Current Units: {self.units}\")\n",
    "        return self.close_positions(-1)"
   ]
  },
  {
   "cell_type": "code",
   "execution_count": null,
   "id": "addf563b-3ca6-4a00-8d44-e4c4162e2d64",
   "metadata": {},
   "outputs": [],
   "source": [
    "obj = Backtester(ticker = 'NIFTY', ema_short_period = 38, ema_long_period = 160, amount = 70000)"
   ]
  },
  {
   "cell_type": "code",
   "execution_count": null,
   "id": "facc9b0b-10d1-40c8-9f67-3da01b81f19f",
   "metadata": {},
   "outputs": [],
   "source": [
    "obj.test_strategy_one(38, 160)"
   ]
  },
  {
   "cell_type": "code",
   "execution_count": null,
   "id": "57e0f9ca-b521-4575-b9b5-9a7f8fd52151",
   "metadata": {},
   "outputs": [],
   "source": [
    "range_short_sma = np.arange(38, 42, 1)\n",
    "range_long_sma = np.arange(155, 160 ,1)\n",
    "combinations = list(product(range_short_sma, range_long_sma))\n",
    "results = []\n",
    "i = 0\n",
    "for comb in combinations:\n",
    "    i+= 1\n",
    "    #print(*comb)\n",
    "    results.append(obj.test_strategy_one(*comb))\n",
    "    clear_output(wait=True)\n",
    "    print(i, ' of ', len(combinations))"
   ]
  },
  {
   "cell_type": "code",
   "execution_count": null,
   "id": "c99f71ec-db50-4af0-95e0-a3907e119523",
   "metadata": {},
   "outputs": [],
   "source": [
    "np.max(results)"
   ]
  },
  {
   "cell_type": "code",
   "execution_count": null,
   "id": "869da121-21a9-4695-95b7-71be5711ca26",
   "metadata": {},
   "outputs": [],
   "source": [
    "np.min(results)"
   ]
  },
  {
   "cell_type": "code",
   "execution_count": null,
   "id": "ba7e36b0-4a8b-4b4e-9d46-72a23c45c7d9",
   "metadata": {},
   "outputs": [],
   "source": [
    "dfFinal = pd.DataFrame(data=combinations, columns=[\"range_sma\", \"range_lma\"])\n",
    "dfFinal[\"Performance (points)\"] = results"
   ]
  },
  {
   "cell_type": "code",
   "execution_count": null,
   "id": "5249a81a-1ffc-465c-8b1d-a9f273d98ed0",
   "metadata": {},
   "outputs": [],
   "source": [
    "dfFinal.nlargest(10, \"Performance (points)\")"
   ]
  },
  {
   "cell_type": "code",
   "execution_count": null,
   "id": "7a5c670f-f5d9-4a0d-8019-3cff0c44cb44",
   "metadata": {},
   "outputs": [],
   "source": [
    "dfFinal.nsmallest(10, \"Performance (points)\")"
   ]
  },
  {
   "cell_type": "code",
   "execution_count": null,
   "id": "bf0fb479-de24-42d3-a2e3-b58e8bbf59c6",
   "metadata": {},
   "outputs": [],
   "source": []
  }
 ],
 "metadata": {
  "kernelspec": {
   "display_name": "Python [conda env:base] *",
   "language": "python",
   "name": "conda-base-py"
  },
  "language_info": {
   "codemirror_mode": {
    "name": "ipython",
    "version": 3
   },
   "file_extension": ".py",
   "mimetype": "text/x-python",
   "name": "python",
   "nbconvert_exporter": "python",
   "pygments_lexer": "ipython3",
   "version": "3.12.7"
  }
 },
 "nbformat": 4,
 "nbformat_minor": 5
}
