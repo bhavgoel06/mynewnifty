{
 "cells": [
  {
   "cell_type": "markdown",
   "id": "c99e25d9",
   "metadata": {},
   "source": [
    "# Web scraping basics"
   ]
  },
  {
   "cell_type": "code",
   "execution_count": null,
   "id": "51d3d6b3",
   "metadata": {},
   "outputs": [],
   "source": [
    "from selenium import webdriver"
   ]
  },
  {
   "cell_type": "code",
   "execution_count": null,
   "id": "69a17585",
   "metadata": {},
   "outputs": [],
   "source": [
    "browser = webdriver.Chrome()\n",
    "#browser.get(\"https://google.co.in\")\n",
    "browser.get(\"file:///Users/satya2/Desktop/index.htm\")"
   ]
  },
  {
   "cell_type": "code",
   "execution_count": null,
   "id": "48f1fe09",
   "metadata": {},
   "outputs": [],
   "source": [
    "element1 = browser.find_element(\"xpath\", '/html/body/div[1]/h2')\n",
    "value = element1.get_attribute(\"innerText\")\n",
    "print(value)"
   ]
  },
  {
   "cell_type": "code",
   "execution_count": null,
   "id": "c9d15cdf",
   "metadata": {},
   "outputs": [],
   "source": [
    "button1 = browser.find_element(\"xpath\", '/html/body/div[2]/button')\n",
    "button1.click()"
   ]
  },
  {
   "cell_type": "code",
   "execution_count": null,
   "id": "1fb8352f",
   "metadata": {},
   "outputs": [],
   "source": []
  }
 ],
 "metadata": {
  "kernelspec": {
   "display_name": "Python 3 (ipykernel)",
   "language": "python",
   "name": "python3"
  },
  "language_info": {
   "codemirror_mode": {
    "name": "ipython",
    "version": 3
   },
   "file_extension": ".py",
   "mimetype": "text/x-python",
   "name": "python",
   "nbconvert_exporter": "python",
   "pygments_lexer": "ipython3",
   "version": "3.9.12"
  }
 },
 "nbformat": 4,
 "nbformat_minor": 5
}
