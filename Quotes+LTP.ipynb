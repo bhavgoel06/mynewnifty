{
 "cells": [
  {
   "cell_type": "markdown",
   "id": "bf6f77c3",
   "metadata": {},
   "source": [
    "# Quotes LTP"
   ]
  },
  {
   "cell_type": "code",
   "execution_count": 1,
   "id": "ab6e29e0",
   "metadata": {},
   "outputs": [],
   "source": [
    "import pandas as pd\n",
    "from breeze_connect import BreezeConnect\n",
    "from datetime import date\n",
    "from selenium import webdriver\n",
    "from pyotp import TOTP\n",
    "import urllib\n",
    "import time\n",
    "import warnings\n",
    "warnings.filterwarnings('ignore')"
   ]
  },
  {
   "cell_type": "code",
   "execution_count": 2,
   "id": "2ed8c9a1",
   "metadata": {},
   "outputs": [],
   "source": [
    "file = open(\"security.txt\", \"r\")\n",
    "keys = file.read().split() \n",
    "api_key = keys[0]\n",
    "key_secret = keys[1]\n",
    "userID = keys[2]\n",
    "pwd = keys[3]\n",
    "totp_key = keys[4]\n",
    "breeze = BreezeConnect(api_key=api_key)"
   ]
  },
  {
   "cell_type": "code",
   "execution_count": 3,
   "id": "922f5965",
   "metadata": {},
   "outputs": [
    {
     "name": "stdout",
     "output_type": "stream",
     "text": [
      "temp_token 6294085\n"
     ]
    }
   ],
   "source": [
    "browser = webdriver.Chrome()\n",
    "browser.get(\"https://api.icicidirect.com/apiuser/login?api_key=\"+urllib.parse.quote_plus(api_key))\n",
    "browser.implicitly_wait(5)\n",
    "username = browser.find_element(\"xpath\", '/html/body/form/div[2]/div/div/div[1]/div[2]/div/div[1]/input')\n",
    "password = browser.find_element(\"xpath\", '/html/body/form/div[2]/div/div/div[1]/div[2]/div/div[3]/div/input') \n",
    "username.send_keys(userID)\n",
    "password.send_keys(pwd)\n",
    "#Checkbox\n",
    "browser.find_element(\"xpath\", '/html/body/form/div[2]/div/div/div[1]/div[2]/div/div[4]/div/input').click()\n",
    "# Click Login Button\n",
    "browser.find_element(\"xpath\", '/html/body/form/div[2]/div/div/div[1]/div[2]/div/div[5]/input[1]').click()\n",
    "time.sleep(2)\n",
    "pin = browser.find_element(\"xpath\", '/html/body/form/div[2]/div/div/div[2]/div/div[2]/div[2]/div[3]/div/div[1]/input')\n",
    "totp = TOTP(totp_key)\n",
    "token = totp.now()\n",
    "pin.send_keys(token)\n",
    "browser.find_element(\"xpath\", '/html/body/form/div[2]/div/div/div[2]/div/div[2]/div[2]/div[4]/input[1]').click()\n",
    "time.sleep(3)\n",
    "temp_token=browser.current_url.split('apisession=')[1][:8]\n",
    "print('temp_token', temp_token)"
   ]
  },
  {
   "cell_type": "code",
   "execution_count": 4,
   "id": "4789bd58",
   "metadata": {},
   "outputs": [],
   "source": [
    "breeze.generate_session(api_secret=key_secret,session_token=temp_token)"
   ]
  },
  {
   "cell_type": "markdown",
   "id": "c1b7dffd",
   "metadata": {},
   "source": [
    "### Get Quote"
   ]
  },
  {
   "cell_type": "code",
   "execution_count": 5,
   "id": "75aa3155",
   "metadata": {},
   "outputs": [
    {
     "data": {
      "text/html": [
       "<div>\n",
       "<style scoped>\n",
       "    .dataframe tbody tr th:only-of-type {\n",
       "        vertical-align: middle;\n",
       "    }\n",
       "\n",
       "    .dataframe tbody tr th {\n",
       "        vertical-align: top;\n",
       "    }\n",
       "\n",
       "    .dataframe thead th {\n",
       "        text-align: right;\n",
       "    }\n",
       "</style>\n",
       "<table border=\"1\" class=\"dataframe\">\n",
       "  <thead>\n",
       "    <tr style=\"text-align: right;\">\n",
       "      <th></th>\n",
       "      <th>exchange_code</th>\n",
       "      <th>product_type</th>\n",
       "      <th>stock_code</th>\n",
       "      <th>expiry_date</th>\n",
       "      <th>right</th>\n",
       "      <th>strike_price</th>\n",
       "      <th>ltp</th>\n",
       "      <th>ltt</th>\n",
       "      <th>best_bid_price</th>\n",
       "      <th>best_bid_quantity</th>\n",
       "      <th>...</th>\n",
       "      <th>best_offer_quantity</th>\n",
       "      <th>open</th>\n",
       "      <th>high</th>\n",
       "      <th>low</th>\n",
       "      <th>previous_close</th>\n",
       "      <th>ltp_percent_change</th>\n",
       "      <th>upper_circuit</th>\n",
       "      <th>lower_circuit</th>\n",
       "      <th>total_quantity_traded</th>\n",
       "      <th>spot_price</th>\n",
       "    </tr>\n",
       "  </thead>\n",
       "  <tbody>\n",
       "    <tr>\n",
       "      <th>0</th>\n",
       "      <td>NSE</td>\n",
       "      <td></td>\n",
       "      <td>TCS</td>\n",
       "      <td>None</td>\n",
       "      <td>None</td>\n",
       "      <td>0.0</td>\n",
       "      <td>3179.30</td>\n",
       "      <td>17-Mar-2023 15:59:49</td>\n",
       "      <td>0.0</td>\n",
       "      <td>0</td>\n",
       "      <td>...</td>\n",
       "      <td>3323</td>\n",
       "      <td>3150.5</td>\n",
       "      <td>3221.4</td>\n",
       "      <td>3144.0</td>\n",
       "      <td>3185.00</td>\n",
       "      <td>0.178964</td>\n",
       "      <td>3497.2</td>\n",
       "      <td>2861.4</td>\n",
       "      <td>6739966</td>\n",
       "      <td>None</td>\n",
       "    </tr>\n",
       "    <tr>\n",
       "      <th>1</th>\n",
       "      <td>BSE</td>\n",
       "      <td></td>\n",
       "      <td>TCS</td>\n",
       "      <td>None</td>\n",
       "      <td>None</td>\n",
       "      <td>0.0</td>\n",
       "      <td>3178.95</td>\n",
       "      <td>17-Mar-2023 15:31:19</td>\n",
       "      <td>3172.2</td>\n",
       "      <td>1</td>\n",
       "      <td>...</td>\n",
       "      <td>30</td>\n",
       "      <td>3151.0</td>\n",
       "      <td>3220.0</td>\n",
       "      <td>3145.0</td>\n",
       "      <td>3184.75</td>\n",
       "      <td>0.182118</td>\n",
       "      <td>3496.8</td>\n",
       "      <td>2861.1</td>\n",
       "      <td>269544</td>\n",
       "      <td>None</td>\n",
       "    </tr>\n",
       "  </tbody>\n",
       "</table>\n",
       "<p>2 rows × 21 columns</p>\n",
       "</div>"
      ],
      "text/plain": [
       "  exchange_code product_type stock_code expiry_date right  strike_price  \\\n",
       "0           NSE                     TCS        None  None           0.0   \n",
       "1           BSE                     TCS        None  None           0.0   \n",
       "\n",
       "       ltp                   ltt  best_bid_price best_bid_quantity  ...  \\\n",
       "0  3179.30  17-Mar-2023 15:59:49             0.0                 0  ...   \n",
       "1  3178.95  17-Mar-2023 15:31:19          3172.2                 1  ...   \n",
       "\n",
       "   best_offer_quantity    open    high     low  previous_close  \\\n",
       "0                 3323  3150.5  3221.4  3144.0         3185.00   \n",
       "1                   30  3151.0  3220.0  3145.0         3184.75   \n",
       "\n",
       "   ltp_percent_change  upper_circuit  lower_circuit  total_quantity_traded  \\\n",
       "0            0.178964         3497.2         2861.4                6739966   \n",
       "1            0.182118         3496.8         2861.1                 269544   \n",
       "\n",
       "  spot_price  \n",
       "0       None  \n",
       "1       None  \n",
       "\n",
       "[2 rows x 21 columns]"
      ]
     },
     "execution_count": 5,
     "metadata": {},
     "output_type": "execute_result"
    }
   ],
   "source": [
    "stock_code = 'TCS'\n",
    "data = breeze.get_quotes(stock_code=stock_code, exchange_code=\"NSE\", product_type=\"cash\")\n",
    "put_data = pd.DataFrame(data[\"Success\"])\n",
    "df = pd.DataFrame()\n",
    "if put_data.empty:\n",
    "    print('Data not found:')\n",
    "else:\n",
    "    df = put_data\n",
    "df"
   ]
  },
  {
   "cell_type": "code",
   "execution_count": 6,
   "id": "cad4a090",
   "metadata": {},
   "outputs": [
    {
     "data": {
      "text/plain": [
       "3179.3"
      ]
     },
     "execution_count": 6,
     "metadata": {},
     "output_type": "execute_result"
    }
   ],
   "source": [
    "df['ltp'].iloc[0]"
   ]
  },
  {
   "cell_type": "code",
   "execution_count": null,
   "id": "1eafd49c",
   "metadata": {},
   "outputs": [],
   "source": []
  }
 ],
 "metadata": {
  "kernelspec": {
   "display_name": "Python 3 (ipykernel)",
   "language": "python",
   "name": "python3"
  },
  "language_info": {
   "codemirror_mode": {
    "name": "ipython",
    "version": 3
   },
   "file_extension": ".py",
   "mimetype": "text/x-python",
   "name": "python",
   "nbconvert_exporter": "python",
   "pygments_lexer": "ipython3",
   "version": "3.9.13"
  }
 },
 "nbformat": 4,
 "nbformat_minor": 5
}
