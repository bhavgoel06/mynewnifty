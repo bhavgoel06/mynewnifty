{
 "cells": [
  {
   "cell_type": "code",
   "execution_count": null,
   "id": "09ff3880",
   "metadata": {},
   "outputs": [],
   "source": [
    "import pandas as pd\n",
    "import numpy as np"
   ]
  },
  {
   "cell_type": "code",
   "execution_count": null,
   "id": "0790e858",
   "metadata": {},
   "outputs": [],
   "source": [
    "data = {'A': [1, 2, np.nan, 4, 5],\n",
    "        'B': [np.nan, 2, 3, 4, None],\n",
    "        'C': [1, 2, 3, np.nan, 5]}\n",
    "\n",
    "df = pd.DataFrame(data)\n",
    "df"
   ]
  },
  {
   "cell_type": "code",
   "execution_count": null,
   "id": "dcb57201",
   "metadata": {},
   "outputs": [],
   "source": [
    "df.to_csv('missing.csv', index=False)"
   ]
  },
  {
   "cell_type": "code",
   "execution_count": null,
   "id": "69f52ed1",
   "metadata": {},
   "outputs": [],
   "source": [
    "df = pd.read_csv('missing.csv')\n",
    "df"
   ]
  },
  {
   "cell_type": "code",
   "execution_count": null,
   "id": "481a0d92",
   "metadata": {},
   "outputs": [],
   "source": [
    "df.iloc[0,0] = np.nan\n",
    "df"
   ]
  },
  {
   "cell_type": "code",
   "execution_count": null,
   "id": "1b1afc75",
   "metadata": {},
   "outputs": [],
   "source": [
    "df.iloc[1,1] = None\n",
    "df"
   ]
  },
  {
   "cell_type": "markdown",
   "id": "3c2c58f8",
   "metadata": {},
   "source": [
    "Kindly note that missing values are not white spaces"
   ]
  },
  {
   "cell_type": "code",
   "execution_count": null,
   "id": "f7c97ba3",
   "metadata": {},
   "outputs": [],
   "source": [
    "df.info()"
   ]
  },
  {
   "cell_type": "code",
   "execution_count": null,
   "id": "d70d3116",
   "metadata": {},
   "outputs": [],
   "source": []
  }
 ],
 "metadata": {
  "kernelspec": {
   "display_name": "Python 3 (ipykernel)",
   "language": "python",
   "name": "python3"
  },
  "language_info": {
   "codemirror_mode": {
    "name": "ipython",
    "version": 3
   },
   "file_extension": ".py",
   "mimetype": "text/x-python",
   "name": "python",
   "nbconvert_exporter": "python",
   "pygments_lexer": "ipython3",
   "version": "3.9.13"
  }
 },
 "nbformat": 4,
 "nbformat_minor": 5
}
